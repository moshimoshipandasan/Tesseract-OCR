{
  "nbformat": 4,
  "nbformat_minor": 0,
  "metadata": {
    "colab": {
      "name": "3機械学習_画像から文字認証.ipynb",
      "provenance": [],
      "mount_file_id": "1tFxqFL4l93uNkyFDI_SsVitUljyj9wYo",
      "authorship_tag": "ABX9TyPoRUj5MkKfIpmMVXgyl6uB",
      "include_colab_link": true
    },
    "kernelspec": {
      "name": "python3",
      "display_name": "Python 3"
    },
    "language_info": {
      "name": "python"
    }
  },
  "cells": [
    {
      "cell_type": "markdown",
      "metadata": {
        "id": "view-in-github",
        "colab_type": "text"
      },
      "source": [
        "<a href=\"https://colab.research.google.com/github/moshimoshipandasan/Tesseract-OCR/blob/main/3%E6%A9%9F%E6%A2%B0%E5%AD%A6%E7%BF%92_%E7%94%BB%E5%83%8F%E3%81%8B%E3%82%89%E6%96%87%E5%AD%97%E8%AA%8D%E8%A8%BC.ipynb\" target=\"_parent\"><img src=\"https://colab.research.google.com/assets/colab-badge.svg\" alt=\"Open In Colab\"/></a>"
      ]
    },
    {
      "cell_type": "markdown",
      "source": [
        "# 実際に画像から文字認証をしてみよう\n",
        "##画像認識にはどんな工夫をすれば正確に読み取れるか学んでみよう！\n",
        "【使用する画像ファイル】\n",
        "\n",
        "https://drive.google.com/file/d/1u2hQzXMHnYEWyr2lEpyz2i4_dum6v5KP/view?usp=sharing\n",
        "\n",
        "【用語の説明】\n",
        "\n",
        "Tesseract (テッセラクト)は、さまざまなオペレーティングシステム上で動作する光学式文字認識エンジン。名称のTesseractとは四次元超立方体の意である。\n",
        "\n",
        "pyocrとは、Python から OCR エンジンを利用可能にするためのモジュールである\n"
      ],
      "metadata": {
        "id": "zy3lBaXs4Keq"
      }
    },
    {
      "cell_type": "code",
      "source": [
        "#tesseract-ocr (テッセラクト)と必要なライブラリをインストール\n",
        "!apt install tesseract-ocr libtesseract-dev tesseract-ocr-jpn\n",
        "!pip install pyocr"
      ],
      "metadata": {
        "id": "OoVqiP0w4TPT"
      },
      "execution_count": null,
      "outputs": []
    },
    {
      "cell_type": "code",
      "source": [
        "#エクスペスト・パトローナム\n",
        "from PIL import Image\n",
        "import sys\n",
        "import pyocr\n",
        "import pyocr.builders\n",
        "from matplotlib import pyplot as plt\n",
        "import cv2"
      ],
      "metadata": {
        "id": "Mb4m1Pav4T1-"
      },
      "execution_count": 10,
      "outputs": []
    },
    {
      "cell_type": "markdown",
      "source": [
        "OCRが使用可能かをチェックして、そのツール名を表示\n",
        "ライブラリのインストール、モジュールのインポートが成功していれば、\n",
        "\n",
        "**「OCR tool is 'Tesseract (sh)'」**と表示されます。"
      ],
      "metadata": {
        "id": "ajxYIhQdVKVe"
      }
    },
    {
      "cell_type": "code",
      "source": [
        "#OCRが使用可能かをチェック\n",
        "tools = pyocr.get_available_tools()\n",
        "if len(tools) == 0:\n",
        "  print(\"OCR tool is not found\")\n",
        "  sys.exit(1)\n",
        "#OCRツール名を表示\n",
        "tool = tools[0]\n",
        "print(\"OCR tool is '%s'\" % (tool.get_name()))"
      ],
      "metadata": {
        "id": "Bdmrd2fU8bay"
      },
      "execution_count": null,
      "outputs": []
    },
    {
      "cell_type": "markdown",
      "source": [
        "OCRの対応言語を確認\n",
        "以下のように出力されればOKです。\n",
        "\n",
        "Available languages: eng, jpn, osd\n",
        "\n",
        "Will use lang 'eng'\n",
        "\n",
        "英語が「eng」, 日本語が「jpn」で入っていればOKです。\n",
        "ちなみに「osd」は縦書き文字などの読み取り用のデータになります。"
      ],
      "metadata": {
        "id": "5X8C1fLkVlow"
      }
    },
    {
      "cell_type": "code",
      "source": [
        "#OCR対応言語を表示\n",
        "langs = tool.get_available_languages()\n",
        "print(\"Available languages: %s\" % \", \".join(langs))\n",
        "lang = langs[0]\n",
        "print(\"Will use lang '%s'\" % (lang))"
      ],
      "metadata": {
        "colab": {
          "base_uri": "https://localhost:8080/"
        },
        "id": "xs57rAVEVbFu",
        "outputId": "62101c46-152b-487b-cb7a-62245c4108d9"
      },
      "execution_count": 70,
      "outputs": [
        {
          "output_type": "stream",
          "name": "stdout",
          "text": [
            "Available languages: osd, jpn_vert, eng, Japanese_vert, jpn, Japanese\n",
            "Will use lang 'osd'\n"
          ]
        }
      ]
    },
    {
      "cell_type": "markdown",
      "source": [
        "#OCRの対象の画像ファイルを読み込むコード"
      ],
      "metadata": {
        "id": "miN3zjLnWkha"
      }
    },
    {
      "cell_type": "code",
      "source": [
        "#文字を読み取る画像を読み込んでみよう\n",
        "from google.colab import files\n",
        "f = files.upload()\n",
        "#読み込んだ画像のファイル名\n",
        "filename = list(f)[0]\n",
        "#読み込んだ画像を表示してみる\n",
        "img = Image.open(filename)\n",
        "plt.imshow(img)"
      ],
      "metadata": {
        "id": "Npfn71J46whQ"
      },
      "execution_count": null,
      "outputs": []
    },
    {
      "cell_type": "code",
      "source": [
        "# 元画像でOCRの実行\n",
        "builder = pyocr.builders.TextBuilder()\n",
        "result = tool.image_to_string(img, lang=\"jpn\", builder=builder)\n",
        "\n",
        "print(result)"
      ],
      "metadata": {
        "id": "U3onHwMDM9hS"
      },
      "execution_count": null,
      "outputs": []
    },
    {
      "cell_type": "markdown",
      "source": [
        "#上記の結果はあまり読み取り制度がよくないので、元画像を加工して読み取り制度を上げよう\n",
        "## どんな工夫をするとうまく文字を読み取れるかな？"
      ],
      "metadata": {
        "id": "ZFJwNh4CNvak"
      }
    },
    {
      "cell_type": "code",
      "source": [
        "width = 777 #ここのサイズを工夫する\n",
        "ratio = width / img.width\n",
        "height = int(img.height * ratio)\n",
        "#画像の大きさの変更\n",
        "im_resized = img.resize((width,height))\n",
        "#画像を回転\n",
        "im_rotate = im_resized.rotate(90, expand=True) #回転\n",
        "plt.imshow(im_rotate)"
      ],
      "metadata": {
        "id": "5gOHKZNU65bR"
      },
      "execution_count": null,
      "outputs": []
    },
    {
      "cell_type": "code",
      "source": [
        "# サイズを変更し、回転をさせた画像でのOCRの実行\n",
        "builder = pyocr.builders.TextBuilder()\n",
        "result = tool.image_to_string(im_rotate, lang=\"jpn\", builder=builder)\n",
        "\n",
        "print(result)"
      ],
      "metadata": {
        "id": "pY9XSvMpMbe-"
      },
      "execution_count": null,
      "outputs": []
    },
    {
      "cell_type": "markdown",
      "source": [
        "#白黒にすると文字の認識制度が上がるかな？"
      ],
      "metadata": {
        "id": "JwNeo8LxTDl1"
      }
    },
    {
      "cell_type": "code",
      "source": [
        "#画像をグレースケール化\n",
        "#imgGray = im_rotate.convert(mode=\"L\")\n",
        "imgGray = im_rotate.convert(mode=\"1\")\n",
        "plt.imshow(imgGray)"
      ],
      "metadata": {
        "id": "fMWVrRvF6-_p"
      },
      "execution_count": null,
      "outputs": []
    },
    {
      "cell_type": "code",
      "source": [
        "# OCRの実行\n",
        "builder = pyocr.builders.TextBuilder()\n",
        "result = tool.image_to_string(img, lang=\"jpn\", builder=builder)\n",
        "\n",
        "print(result)"
      ],
      "metadata": {
        "id": "r5N8zo5O7CAq"
      },
      "execution_count": null,
      "outputs": []
    },
    {
      "cell_type": "markdown",
      "source": [
        "参照\n",
        "pillowやopnecvで画像を表示させる方法\n",
        "\n",
        "https://qiita.com/mo256man/items/8912934578025adb5ce5\n",
        "\n",
        "参照 https://qiita.com/m-hayashi/items/e2acc640fb436d09f128\n",
        "\n",
        "日本語化参照 https://www.teamxeppet.com/colab-pyocr/"
      ],
      "metadata": {
        "id": "w_pN6AG37C9B"
      }
    }
  ]
}