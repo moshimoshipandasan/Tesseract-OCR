{
  "nbformat": 4,
  "nbformat_minor": 0,
  "metadata": {
    "colab": {
      "name": "1機械学習_python基礎.ipynb",
      "provenance": [],
      "collapsed_sections": [],
      "include_colab_link": true
    },
    "language_info": {
      "codemirror_mode": {
        "name": "ipython",
        "version": 3
      },
      "file_extension": ".py",
      "mimetype": "text/x-python",
      "name": "python",
      "nbconvert_exporter": "python",
      "pygments_lexer": "ipython3",
      "version": "3.7.1"
    },
    "kernelspec": {
      "display_name": "Python 3",
      "language": "python",
      "name": "python3"
    },
    "accelerator": "GPU"
  },
  "cells": [
    {
      "cell_type": "markdown",
      "metadata": {
        "id": "view-in-github",
        "colab_type": "text"
      },
      "source": [
        "<a href=\"https://colab.research.google.com/github/moshimoshipandasan/Tesseract-OCR/blob/main/1%E6%A9%9F%E6%A2%B0%E5%AD%A6%E7%BF%92_python%E5%9F%BA%E7%A4%8E.ipynb\" target=\"_parent\"><img src=\"https://colab.research.google.com/assets/colab-badge.svg\" alt=\"Open In Colab\"/></a>"
      ]
    },
    {
      "cell_type": "markdown",
      "metadata": {
        "id": "n87LG7KBk-1n"
      },
      "source": [
        "# ここではAIを学習するために必要なPythonの基礎知識を学びます"
      ]
    },
    {
      "cell_type": "markdown",
      "metadata": {
        "id": "2eS_QEXRk-1r"
      },
      "source": [
        "## 画面に表示する\n",
        "こんにちはと表示するプログラムを作ってみよう"
      ]
    },
    {
      "cell_type": "code",
      "metadata": {
        "id": "RFyAMa6ek-1s"
      },
      "source": [
        "print(\"こんにちは\")"
      ],
      "execution_count": null,
      "outputs": []
    },
    {
      "cell_type": "markdown",
      "source": [
        "【問題】自分の名前を表示するプログラムを作ってみよう"
      ],
      "metadata": {
        "id": "2fLq6NodfaNG"
      }
    },
    {
      "cell_type": "code",
      "source": [
        ""
      ],
      "metadata": {
        "id": "huQVsUAGfkiw"
      },
      "execution_count": null,
      "outputs": []
    },
    {
      "cell_type": "markdown",
      "metadata": {
        "id": "WWt_FtHLk-1y"
      },
      "source": [
        "## 四則演算\n",
        "a = 6 , b = ｰ5 , c = 1.5 , d = 10  のとき、問1～問2の計算をして、その結果を表示してください。\n",
        "\n",
        "問1 a+b\n",
        "\n",
        "問2\ta-b\n",
        "\n",
        "問3\ta×b×c×d\n",
        "\n",
        "問4\ta÷c÷d"
      ]
    },
    {
      "cell_type": "code",
      "metadata": {
        "id": "CNi36UR7VIF8"
      },
      "source": [
        "a = 6\n",
        "b = -5\n",
        "c = 1.5\n",
        "d = 10"
      ],
      "execution_count": null,
      "outputs": []
    },
    {
      "cell_type": "markdown",
      "source": [
        "解1 a+b"
      ],
      "metadata": {
        "id": "zJmOO8S81mYR"
      }
    },
    {
      "cell_type": "code",
      "source": [
        ""
      ],
      "metadata": {
        "id": "AtwhTWB_1ky0"
      },
      "execution_count": null,
      "outputs": []
    },
    {
      "cell_type": "markdown",
      "source": [
        "解2\ta-b"
      ],
      "metadata": {
        "id": "a657knaj1u4w"
      }
    },
    {
      "cell_type": "code",
      "source": [
        ""
      ],
      "metadata": {
        "id": "rrWD7Nrz1yDw"
      },
      "execution_count": null,
      "outputs": []
    },
    {
      "cell_type": "markdown",
      "source": [
        "解3 a×b×c×d"
      ],
      "metadata": {
        "id": "_2EfRS5T1ytN"
      }
    },
    {
      "cell_type": "code",
      "source": [
        ""
      ],
      "metadata": {
        "id": "ymGpMXX615sh"
      },
      "execution_count": null,
      "outputs": []
    },
    {
      "cell_type": "markdown",
      "source": [
        "解4 a÷c÷d"
      ],
      "metadata": {
        "id": "1q6YwkiR16WB"
      }
    },
    {
      "cell_type": "code",
      "source": [
        ""
      ],
      "metadata": {
        "id": "faYwMQ2E1_cR"
      },
      "execution_count": null,
      "outputs": []
    },
    {
      "cell_type": "markdown",
      "metadata": {
        "id": "VcEyT0tt_2Bh"
      },
      "source": [
        "【問題1】1から9まで順に表示するプログラムを作ってみよう"
      ]
    },
    {
      "cell_type": "code",
      "metadata": {
        "id": "ajLjr_5tD3e8"
      },
      "source": [
        "for i in range(1,10):\n",
        "  print(i)"
      ],
      "execution_count": null,
      "outputs": []
    },
    {
      "cell_type": "markdown",
      "metadata": {
        "id": "Se1McrHtD46Z"
      },
      "source": [
        "【問題2】9から1まで順に表示するプログラムを作ってみよう"
      ]
    },
    {
      "cell_type": "code",
      "source": [
        ""
      ],
      "metadata": {
        "id": "NW01O1Hn5Jea"
      },
      "execution_count": null,
      "outputs": []
    },
    {
      "cell_type": "markdown",
      "source": [
        "##演算規則"
      ],
      "metadata": {
        "id": "q_pjol5F6TM1"
      }
    },
    {
      "cell_type": "code",
      "metadata": {
        "id": "zB_p2Jmzk-2i"
      },
      "source": [
        "e = 2\n",
        "e += 1 #二項演算子 e = e + 1 と同じこと\n",
        "print(e)"
      ],
      "execution_count": null,
      "outputs": []
    },
    {
      "cell_type": "code",
      "metadata": {
        "id": "q_e_jj-ak-2k"
      },
      "source": [
        "f = 6\n",
        "f -= 1 #二項演算子乗 f = f - 1 と同じこと\n",
        "print(f)"
      ],
      "execution_count": null,
      "outputs": []
    },
    {
      "cell_type": "code",
      "metadata": {
        "id": "b-5X7-5kk-2n"
      },
      "source": [
        "#べき乗\n",
        "g = 2**5\n",
        "print(g)"
      ],
      "execution_count": null,
      "outputs": []
    },
    {
      "cell_type": "code",
      "metadata": {
        "id": "suHv7FaBspmt"
      },
      "source": [
        "#比較演算子\n",
        "h = 4\n",
        "h == 4 #「==」は比較演算子"
      ],
      "execution_count": null,
      "outputs": []
    },
    {
      "cell_type": "code",
      "source": [
        "#余り\n",
        "i = 5\n",
        "j = 2\n",
        "print(i % j)"
      ],
      "metadata": {
        "id": "41poKyknF3at"
      },
      "execution_count": null,
      "outputs": []
    },
    {
      "cell_type": "markdown",
      "metadata": {
        "id": "QLd3K8qwk-2p"
      },
      "source": [
        "### Pythonでのプログラムの書き方での注意点    \n",
        "Pythonでは字下げ(インデント)がプログラムとして意味を持つ。  \n",
        "意味もなく字下げをするとエラー。"
      ]
    },
    {
      "cell_type": "code",
      "metadata": {
        "id": "3TUA_mr-k-2q"
      },
      "source": [
        "x = 1\n",
        "  x = x + 1\n",
        "print(x)"
      ],
      "execution_count": null,
      "outputs": []
    },
    {
      "cell_type": "markdown",
      "metadata": {
        "id": "tHijLr-9k-2t"
      },
      "source": [
        "## 文字列型\n",
        "文字列型のデータはシングルクォーテーションあるいはダブルクォーテーションで文字列を囲むことで作成"
      ]
    },
    {
      "cell_type": "code",
      "metadata": {
        "id": "XWt_ab9gk-2u"
      },
      "source": [
        "a = \"ディープラーニング基礎講座\"\n",
        "b = \"DL基礎講座\"\n",
        "print(a,b)"
      ],
      "execution_count": null,
      "outputs": []
    },
    {
      "cell_type": "code",
      "metadata": {
        "id": "BNHgBvgCk-2w"
      },
      "source": [
        "c = 3\n",
        "d = \"4\"\n",
        "print(c + d) #変数の型が違うのでエラー"
      ],
      "execution_count": null,
      "outputs": []
    },
    {
      "cell_type": "markdown",
      "source": [
        "文字列型を数値型にするにはint()関数を使う"
      ],
      "metadata": {
        "id": "rBc9Z8oryku2"
      }
    },
    {
      "cell_type": "code",
      "source": [
        "print(c + int(d))"
      ],
      "metadata": {
        "id": "xaFRthMNy1M-"
      },
      "execution_count": null,
      "outputs": []
    },
    {
      "cell_type": "markdown",
      "metadata": {
        "id": "fzXv7Yczk-2z"
      },
      "source": [
        "文字列の長さ（文字数）の取得にはlen関数を用いる"
      ]
    },
    {
      "cell_type": "code",
      "metadata": {
        "id": "y2gRqh0Nk-2z"
      },
      "source": [
        "a = \"deeplearning\"\n",
        "len(a)"
      ],
      "execution_count": null,
      "outputs": []
    },
    {
      "cell_type": "markdown",
      "metadata": {
        "id": "v99cbUXAk-23"
      },
      "source": [
        "## リスト\n",
        "数値や文字列などを並べて格納できるデータ型。文字や文字列などを、カンマで区切って並べる。<br>かたまりのデータをまとめて扱うときに便利。"
      ]
    },
    {
      "cell_type": "code",
      "metadata": {
        "id": "VRlDX-kFk-24"
      },
      "source": [
        "L = [1,2,3,4]"
      ],
      "execution_count": null,
      "outputs": []
    },
    {
      "cell_type": "code",
      "metadata": {
        "id": "PklvhDKxk-27"
      },
      "source": [
        "print(L)"
      ],
      "execution_count": null,
      "outputs": []
    },
    {
      "cell_type": "code",
      "metadata": {
        "id": "wtNnzyUTk-2-"
      },
      "source": [
        "print(L[2])"
      ],
      "execution_count": null,
      "outputs": []
    },
    {
      "cell_type": "code",
      "metadata": {
        "id": "zmpsJzA9k-3B"
      },
      "source": [
        "print(L[:]) #全要素を取得"
      ],
      "execution_count": null,
      "outputs": []
    },
    {
      "cell_type": "code",
      "metadata": {
        "id": "Tv7lRxwzk-3E"
      },
      "source": [
        "L[2]=33333333 #3番目の要素を変更"
      ],
      "execution_count": null,
      "outputs": []
    },
    {
      "cell_type": "code",
      "metadata": {
        "id": "ChilsuKtk-3G"
      },
      "source": [
        "print(L)"
      ],
      "execution_count": null,
      "outputs": []
    },
    {
      "cell_type": "code",
      "metadata": {
        "id": "YQX2nZ2Rk-3I"
      },
      "source": [
        "L.append(5555555) #リストの末尾に5555555を追加\n",
        "print(L)"
      ],
      "execution_count": null,
      "outputs": []
    },
    {
      "cell_type": "markdown",
      "metadata": {
        "id": "VFoCwJiRCo9b"
      },
      "source": [
        "*【問題3】*\n",
        "L =[2,4,6,1,7,8,9,0,4,5]\n",
        "に対して、リストの要素をひとつずつ書き出すプログラムを書きなさい。"
      ]
    },
    {
      "cell_type": "code",
      "metadata": {
        "id": "SoK6FD5vEgIW"
      },
      "source": [
        "L =[2,4,6,1,7,8,9,0,4,5] \n",
        "print(L[0])\n",
        "print(L[1])\n",
        "print(L[2])\n",
        "print(L[3])\n",
        "print(L[4])\n",
        "print(L[5])\n",
        "print(L[6])\n",
        "print(L[7])\n",
        "print(L[8])\n",
        "print(L[9])\n",
        "\n",
        "print(\"または\")\n",
        "\n",
        "n = len(L)\n",
        "for i in range(n):\n",
        "  print(L[i])"
      ],
      "execution_count": null,
      "outputs": []
    },
    {
      "cell_type": "markdown",
      "metadata": {
        "id": "g3BA-xxGk-3K"
      },
      "source": [
        "リストのスライス<br>\n",
        "「仕切り」を考えるとわかりやすい。"
      ]
    },
    {
      "cell_type": "code",
      "metadata": {
        "id": "-XQR06c0k-3L"
      },
      "source": [
        "profs = [\"櫻井翔\",\"松本潤\",\"大野智\",\"相葉雅紀\",\"二宮和也\"]\n",
        "print(profs[1:4])\n",
        "print(profs[1:3])\n",
        "print(profs[2:2])"
      ],
      "execution_count": null,
      "outputs": []
    },
    {
      "cell_type": "markdown",
      "metadata": {
        "id": "I__-eqKLk-3N"
      },
      "source": [
        "## 辞書型 \n",
        "辞書では、見出し語 (キー) と対応する要素である 値(value)を紐づけて対応関係を管理。"
      ]
    },
    {
      "cell_type": "code",
      "metadata": {
        "id": "OwUmF-rFk-3O"
      },
      "source": [
        "data = {'恐竜':'大きい',\"幽霊\":\"怖い\"}\n",
        "print(data1)"
      ],
      "execution_count": null,
      "outputs": []
    },
    {
      "cell_type": "code",
      "metadata": {
        "id": "Eifq-wbek-3Q"
      },
      "source": [
        "val = input()\n",
        "data[val] #キーで参照"
      ],
      "execution_count": null,
      "outputs": []
    },
    {
      "cell_type": "markdown",
      "metadata": {
        "id": "aEkJG2Qrk-3S"
      },
      "source": [
        "## タプル型"
      ]
    },
    {
      "cell_type": "code",
      "metadata": {
        "id": "iqxe6U26k-3T"
      },
      "source": [
        "a = (1,2,3,4)"
      ],
      "execution_count": null,
      "outputs": []
    },
    {
      "cell_type": "code",
      "metadata": {
        "id": "r0MpB7Iyk-3U"
      },
      "source": [
        "print(a)"
      ],
      "execution_count": null,
      "outputs": []
    },
    {
      "cell_type": "code",
      "metadata": {
        "id": "yT53c0-tk-3Z"
      },
      "source": [
        "print(a[0])"
      ],
      "execution_count": null,
      "outputs": []
    },
    {
      "cell_type": "markdown",
      "metadata": {
        "id": "cNOfvZVpk-3b"
      },
      "source": [
        "リスト型との違いはイミュータブル（変更不可能）である点。<br>\n",
        "変更されたら困るデータを管理するのに便利。"
      ]
    },
    {
      "cell_type": "code",
      "metadata": {
        "id": "t4fHN0w1k-3b"
      },
      "source": [
        "a[1] = 10"
      ],
      "execution_count": null,
      "outputs": []
    },
    {
      "cell_type": "markdown",
      "metadata": {
        "id": "-d-rSO-vk-3e"
      },
      "source": [
        "## 制御構造"
      ]
    },
    {
      "cell_type": "markdown",
      "source": [
        "if文による条件分岐"
      ],
      "metadata": {
        "id": "gXjp5ll2ERsk"
      }
    },
    {
      "cell_type": "code",
      "metadata": {
        "id": "Z6pV10shk-3g"
      },
      "source": [
        "age = int(input())\n",
        "\n",
        "if age >= 20:\n",
        "  print('20歳以上だね')\n",
        "else:\n",
        "  print('未成年だね')"
      ],
      "execution_count": null,
      "outputs": []
    },
    {
      "cell_type": "code",
      "metadata": {
        "id": "Q5aMxQg0y77Q"
      },
      "source": [
        "kata = int(input())\n",
        "\n",
        "if kata == 1:\n",
        "    print('水面斬り（みなもぎり）')\n",
        "elif kata == 2:\n",
        "    print('水車（みずぐるま）')\n",
        "elif kata == 3:\n",
        "    print('流流舞い（りゅうりゅうまい）')\n",
        "elif kata == 4:\n",
        "    print('打ち潮（うちしお）')\n",
        "elif kata == 5:\n",
        "    print('干天の慈雨（かんてんのじう）')\n",
        "elif kata == 6:\n",
        "    print('ねじれ渦（ねじれうず）')\n",
        "elif kata == 7:\n",
        "    print('雫波紋突き・曲（しずくはもんづき・きょく）')\n",
        "elif kata == 8:\n",
        "    print('滝壺（たきつぼ）')\n",
        "elif kata == 9:\n",
        "    print('水流飛沫・乱（すいりゅうしぶき・らん）')\n",
        "elif kata == 10:\n",
        "    print('生生流天（せいせいるてん）')\n",
        "elif kata == 11:\n",
        "    print('凪（なぎ）')\n",
        "else:\n",
        "    print('まだ未収得の技だね')"
      ],
      "execution_count": null,
      "outputs": []
    },
    {
      "cell_type": "markdown",
      "metadata": {
        "id": "dt2tF8N6vbGG"
      },
      "source": [
        "問題　水の呼吸の型の表示プログラムをリストまたは辞書を使って作りましょう。"
      ]
    },
    {
      "cell_type": "code",
      "metadata": {
        "id": "GHx_DiFmvvy4"
      },
      "source": [
        "waza = ['水面斬り（みなもぎり）','水車（みずぐるま）','流流舞い（りゅうりゅうまい）','打ち潮（うちしお）','干天の慈雨（かんてんのじう）','ねじれ渦（ねじれうず）','雫波紋突き・曲（しずくはもんづき・きょく）','滝壺（たきつぼ）','水流飛沫・乱（すいりゅうしぶき・らん）','生生流天（せいせいるてん）','凪（なぎ）','まだ技を習得してないね']\n",
        "kata = int(input())\n",
        "waza[kata - 1]"
      ],
      "execution_count": null,
      "outputs": []
    },
    {
      "cell_type": "markdown",
      "metadata": {
        "id": "wYlzSxfCk-3i"
      },
      "source": [
        "for文による繰り返し"
      ]
    },
    {
      "cell_type": "code",
      "metadata": {
        "id": "svLdaonsk-3j"
      },
      "source": [
        "for i in range(1,11): #1から数えて10回繰り返し\n",
        "  print(i)"
      ],
      "execution_count": null,
      "outputs": []
    },
    {
      "cell_type": "markdown",
      "metadata": {
        "id": "NWosp-DYk-3l"
      },
      "source": [
        "## 関数定義\n",
        "自分の関数を作っちゃおう。defで定義の宣言。"
      ]
    },
    {
      "cell_type": "code",
      "metadata": {
        "id": "UQIiTDMkk-3n"
      },
      "source": [
        "def f(x,y):\n",
        "  return x**2 + y**2 # 戻り値を返す"
      ],
      "execution_count": null,
      "outputs": []
    },
    {
      "cell_type": "code",
      "metadata": {
        "id": "Ixur-fo_k-3o"
      },
      "source": [
        "print(f(10,20))"
      ],
      "execution_count": null,
      "outputs": []
    },
    {
      "cell_type": "markdown",
      "metadata": {
        "id": "qJgPE0RHxg3S"
      },
      "source": [
        "関数 y = 2x+3 の関数を作れ"
      ]
    },
    {
      "cell_type": "code",
      "metadata": {
        "id": "IG_syQPUxtsj"
      },
      "source": [
        "def f(x):\n",
        "  return 2*x+3"
      ],
      "execution_count": null,
      "outputs": []
    },
    {
      "cell_type": "code",
      "metadata": {
        "id": "PzNnTAIry5jK"
      },
      "source": [
        "f(2)"
      ],
      "execution_count": null,
      "outputs": []
    },
    {
      "cell_type": "markdown",
      "metadata": {
        "id": "nc-JGMFzzB9R"
      },
      "source": [
        "関数 y = 2xの２乗の関数を作れ"
      ]
    },
    {
      "cell_type": "code",
      "metadata": {
        "id": "fClhrgcqzfd2"
      },
      "source": [
        "def f(x):\n",
        "  return 2*x**2"
      ],
      "execution_count": null,
      "outputs": []
    },
    {
      "cell_type": "code",
      "metadata": {
        "id": "5L9J0B7U1QDp"
      },
      "source": [
        "f(1)"
      ],
      "execution_count": null,
      "outputs": []
    },
    {
      "cell_type": "markdown",
      "metadata": {
        "id": "YGB7qxUb0Gng"
      },
      "source": [
        "nを3で割った余りの関数を作れ\n"
      ]
    },
    {
      "cell_type": "code",
      "metadata": {
        "id": "7uotyqHX0ToF"
      },
      "source": [
        "def f(n):\n",
        "  return n%3"
      ],
      "execution_count": null,
      "outputs": []
    },
    {
      "cell_type": "code",
      "metadata": {
        "id": "wFrU8Ro61paV"
      },
      "source": [
        "n = int(input())\n",
        "f(n)"
      ],
      "execution_count": null,
      "outputs": []
    },
    {
      "cell_type": "markdown",
      "metadata": {
        "id": "y3IVjCy64y2g"
      },
      "source": [
        "##FizzBuzz問題\n",
        "3の倍数で’Fizz'、5の倍数で'Buzz'、3と5の公倍数で'FizzBuzz'、\n",
        "それ以外の数でそのまま数を表示させるプログラムをつくってみよう\n",
        "\n"
      ]
    },
    {
      "cell_type": "code",
      "metadata": {
        "id": "24BL3qKEUivq"
      },
      "source": [
        "for i in range(1,31):\n",
        "  if i%3 == 0 and i%5==0:\n",
        "    print('FizzBuzz')\n",
        "  elif i%3 == 0:\n",
        "    print('Fizz')\n",
        "  elif i%5 == 0:\n",
        "    print('Buzz')\n",
        "  else:\n",
        "    print(i)"
      ],
      "execution_count": null,
      "outputs": []
    },
    {
      "cell_type": "markdown",
      "metadata": {
        "id": "Brq6cxszVTu5"
      },
      "source": [
        "#FizzBuzz課題1\n",
        "引数に数字を入れると、上記のFizzBuzzのルールで数字が表示される関数を作ろう。\n",
        "また実際にその関数で表示を確かめてみよう。"
      ]
    },
    {
      "cell_type": "code",
      "metadata": {
        "id": "KCs_1sreXJm8"
      },
      "source": [
        "def FizzBuzz(i):\n",
        "  if i%3 == 0 and i%5==0:\n",
        "    print('FizzBuzz')\n",
        "  elif i%3 == 0:\n",
        "    print('Fizz')\n",
        "  elif i%5 == 0:\n",
        "    print('Buzz')\n",
        "  else:\n",
        "    print(i)"
      ],
      "execution_count": null,
      "outputs": []
    },
    {
      "cell_type": "code",
      "metadata": {
        "id": "mjQLKgTyXpcN"
      },
      "source": [
        "FizzBuzz(5)"
      ],
      "execution_count": null,
      "outputs": []
    },
    {
      "cell_type": "code",
      "metadata": {
        "id": "ctT_l4V4XsMr"
      },
      "source": [
        "FizzBuzz(15)"
      ],
      "execution_count": null,
      "outputs": []
    },
    {
      "cell_type": "markdown",
      "metadata": {
        "id": "J0WHdSWvwcc9"
      },
      "source": [
        "#FizzBuzz課題2\n",
        "変数nに数字を入力すると、上記のFizzBuzzのルールで数字が表示されるプログラムを作ろう。"
      ]
    },
    {
      "cell_type": "code",
      "metadata": {
        "id": "wjDVZpQlw-B1"
      },
      "source": [
        ""
      ],
      "execution_count": null,
      "outputs": []
    },
    {
      "cell_type": "markdown",
      "metadata": {
        "id": "pGqtsaVDk-3q"
      },
      "source": [
        "## モジュール\n",
        "Pythonは関数のような機能をまとめ、必要な時に読み込んで使える**モジュール**という仕組みを持っています。\n",
        "\n",
        "ここまでで使った関数はPythonに内蔵されているいつでも使える関数で、これらを**組み込み関数**と呼びます。  \n",
        "http://docs.python.jp/3/library/functions.html  にその一覧があります。<br>\n",
        "\n",
        "一方、限られた用途で使うものはモジュールから読み込むことで使えるようになります。<br>\n",
        "Pythonにはこの便利なモジュールがたくさん付属しているのですが、このPythonに付属のモジュールの集合体のことを**標準ライブラリ**といいます。<br>\n",
        "Anacondaには標準ライブラリの他にも便利なライブラリが付属しています。\n",
        " "
      ]
    },
    {
      "cell_type": "code",
      "metadata": {
        "id": "NGn7z9R0k-3q"
      },
      "source": [
        "import math #mathモジュールを読みこむ（インポート）"
      ],
      "execution_count": null,
      "outputs": []
    },
    {
      "cell_type": "code",
      "metadata": {
        "id": "lTaN7neWk-3s"
      },
      "source": [
        "math.cos(0) "
      ],
      "execution_count": null,
      "outputs": []
    },
    {
      "cell_type": "code",
      "metadata": {
        "id": "iyeAywVoyU7v"
      },
      "source": [
        "import math\n",
        "\n",
        "# 円周率の近似値\n",
        "x = math.pi\n",
        "print(x)"
      ],
      "execution_count": null,
      "outputs": []
    },
    {
      "cell_type": "markdown",
      "metadata": {
        "id": "N295mkp4k-3y"
      },
      "source": [
        "**モジュール名.関数名**  のようにモジュール名と関数名を. でつなげて使う\n"
      ]
    },
    {
      "cell_type": "code",
      "metadata": {
        "id": "YDe3bKpIulLg"
      },
      "source": [
        "import numpy as np #NumPyモジュールをnpという名前でインポート"
      ],
      "execution_count": null,
      "outputs": []
    },
    {
      "cell_type": "markdown",
      "metadata": {
        "id": "QBFJTQLa56f5"
      },
      "source": [
        "円周率πは"
      ]
    },
    {
      "cell_type": "code",
      "metadata": {
        "id": "4nTDjNs06Acl"
      },
      "source": [
        "np.pi"
      ],
      "execution_count": null,
      "outputs": []
    },
    {
      "cell_type": "markdown",
      "metadata": {
        "id": "802b25QS6EjN"
      },
      "source": [
        "cos(180°)は"
      ]
    },
    {
      "cell_type": "code",
      "metadata": {
        "id": "Mm2eXCEGvCKS"
      },
      "source": [
        "math.cos(np.pi)"
      ],
      "execution_count": null,
      "outputs": []
    },
    {
      "cell_type": "markdown",
      "metadata": {
        "id": "2G3PRdtlk-3y"
      },
      "source": [
        "## 機械学習・ディープラーニングでよく使うライブラリ\n",
        "Tensorflow、Keras 以外にも<br>\n",
        "numpy ： 数値計算<br>\n",
        "matplotlib : グラフの描画<br>\n",
        "他にもscipy、pandas、など"
      ]
    },
    {
      "cell_type": "code",
      "metadata": {
        "id": "LxGNgwo3k-3z"
      },
      "source": [
        "import numpy as np #NumPyモジュールをnpという名前でインポート"
      ],
      "execution_count": null,
      "outputs": []
    },
    {
      "cell_type": "markdown",
      "metadata": {
        "id": "FXtc1DLRk-30"
      },
      "source": [
        "## numpyでベクトルや行列の計算"
      ]
    },
    {
      "cell_type": "code",
      "metadata": {
        "id": "MdXsVRI2k-30"
      },
      "source": [
        "arr1 = np.array([1,4,3])\n",
        "#(1,3)行列"
      ],
      "execution_count": null,
      "outputs": []
    },
    {
      "cell_type": "code",
      "metadata": {
        "id": "Q8wGFSmrk-32"
      },
      "source": [
        "arr1"
      ],
      "execution_count": null,
      "outputs": []
    },
    {
      "cell_type": "code",
      "metadata": {
        "id": "MZpDknz5k-35"
      },
      "source": [
        "arr1[2]\n",
        "#要素の取得"
      ],
      "execution_count": null,
      "outputs": []
    },
    {
      "cell_type": "code",
      "metadata": {
        "id": "zxgCaqwvk-37"
      },
      "source": [
        "arr2 = np.array([[1,2,3],\n",
        "                 [4,5,6]])\n",
        "#(2,3)行列"
      ],
      "execution_count": null,
      "outputs": []
    },
    {
      "cell_type": "code",
      "metadata": {
        "id": "LjB4eYtpk-38"
      },
      "source": [
        "arr2[1,1] #要素の取得"
      ],
      "execution_count": null,
      "outputs": []
    },
    {
      "cell_type": "code",
      "metadata": {
        "id": "OBvUHkANk-3-"
      },
      "source": [
        "arr2.shape"
      ],
      "execution_count": null,
      "outputs": []
    },
    {
      "cell_type": "code",
      "metadata": {
        "id": "_wVQYEcEk-4A"
      },
      "source": [
        "arr1 + arr2 #行列の足し算"
      ],
      "execution_count": null,
      "outputs": []
    },
    {
      "cell_type": "markdown",
      "metadata": {
        "id": "fGnpsJeZk-4C"
      },
      "source": [
        "dot関数で行列の積を計算してみましょう"
      ]
    },
    {
      "cell_type": "code",
      "metadata": {
        "id": "9dy6l-0dk-4C"
      },
      "source": [
        "a = np.array([[1,2],[3,4]])\n",
        "b = np.array([[5,6],[7,8]])\n",
        "np.dot(a,b)"
      ],
      "execution_count": null,
      "outputs": []
    },
    {
      "cell_type": "markdown",
      "metadata": {
        "id": "HoO3Z-Vok-4G"
      },
      "source": [
        "ちなみに行列（arr2,arr3）は、、"
      ]
    },
    {
      "cell_type": "code",
      "source": [
        "arr3 = np.array([[1],[4],[3]])\n",
        "#(3,1)行列"
      ],
      "metadata": {
        "id": "fhA10R8jz31k"
      },
      "execution_count": null,
      "outputs": []
    },
    {
      "cell_type": "code",
      "metadata": {
        "id": "MIHvzvJkk-4G"
      },
      "source": [
        "np.dot(arr2,arr3) "
      ],
      "execution_count": null,
      "outputs": []
    },
    {
      "cell_type": "markdown",
      "metadata": {
        "id": "i6DP9e7xk-4I"
      },
      "source": [
        "## matplotlibでグラフ描画"
      ]
    },
    {
      "cell_type": "markdown",
      "metadata": {
        "id": "sKUE3L5JluFy"
      },
      "source": [
        "直線を描いてみよう"
      ]
    },
    {
      "cell_type": "code",
      "metadata": {
        "id": "wmEDpReIlwwx"
      },
      "source": [
        "import matplotlib.pyplot as plt\n",
        "import numpy as np\n",
        "\n",
        "x = np.linspace(0,10,100) #変数xにNumPyの関数linspaceを使用し0から10までの数字を100分割したものを代入\n",
        "y = x\n",
        "\n",
        "plt.plot(x,y)\n",
        "plt.show()"
      ],
      "execution_count": null,
      "outputs": []
    },
    {
      "cell_type": "markdown",
      "metadata": {
        "id": "XmwBh_84l1Cv"
      },
      "source": [
        "2次曲線を描いてみよう\n",
        "\n",
        "まずは日本語化"
      ]
    },
    {
      "cell_type": "code",
      "metadata": {
        "id": "xgoDmK_kJRPs"
      },
      "source": [
        "!pip install japanize-matplotlib"
      ],
      "execution_count": null,
      "outputs": []
    },
    {
      "cell_type": "code",
      "metadata": {
        "id": "nm-voZApk-4J"
      },
      "source": [
        "import numpy as np\n",
        "import matplotlib.pyplot as plt\n",
        "import japanize_matplotlib\n",
        "\n",
        "x = np.linspace(-5,5,300) #変数xにNumPyの関数linspaceを使用し-5から5までの数字を300分割したものを代入\n",
        "y = 3 * x + 5\n",
        "\n",
        "plt.plot(x,y,color = \"r\")\n",
        "plt.xlabel('簡単なグラフ')\n",
        "plt.show()"
      ],
      "execution_count": null,
      "outputs": []
    },
    {
      "cell_type": "markdown",
      "metadata": {
        "id": "Hhv121ESl9cY"
      },
      "source": [
        "三角関数のグラフを描いてみよう"
      ]
    },
    {
      "cell_type": "code",
      "metadata": {
        "id": "Le8lApGIBzm8"
      },
      "source": [
        "import matplotlib.pyplot as plt\n",
        "import japanize_matplotlib\n",
        "import numpy as np\n",
        "import math\n",
        "x = np.linspace(-np.pi, np.pi)\n",
        "plt.plot(x, np.cos(x), color='r', ls='-', label='cos')\n",
        "plt.plot(x, np.sin(x), color='b', ls='-', label='sin')\n",
        "plt.plot(x, np.tan(x), color='c', marker='s', ls='None', label='tan')\n",
        "\n",
        "plt.xlim(-np.pi, np.pi)\n",
        "plt.ylim(-1.5, 1.5)\n",
        "\n",
        "plt.axhline(0, ls='-', c='b', lw=0.5)\n",
        "plt.axvline(0, ls='-', c='b', lw=0.5)\n",
        "\n",
        "plt.legend()\n",
        "plt.xlabel('ｘ軸')\n",
        "plt.ylabel('ｙ軸')\n",
        "plt.title('三角関数のグラグ')\n",
        "\n",
        "plt.show()"
      ],
      "execution_count": null,
      "outputs": []
    },
    {
      "cell_type": "markdown",
      "metadata": {
        "id": "7u33ddbZQU1F"
      },
      "source": [
        "# PandasのDataFrame作成と結合方法\n",
        "\n",
        "Pandasは機械学習やディープラーニング行う上での、エクセルの様な存在だと考えるといいでしょう。\n",
        "\n",
        "まずは、簡単なDataFrame作成してみましょう。"
      ]
    },
    {
      "cell_type": "code",
      "metadata": {
        "id": "EXDCj2SdREng"
      },
      "source": [
        "import numpy as np\n",
        "import pandas as pd\n",
        "data_f1 = pd.DataFrame({'name':['ando','ito','kato','sato'],\n",
        "          'id':[1,2,3,4],\n",
        "          'age':[30,40,50,60],\n",
        "          'weight':[92,43,58,78],\n",
        "          'height':[178,172,155,168]})\n",
        "data_f1"
      ],
      "execution_count": null,
      "outputs": []
    },
    {
      "cell_type": "code",
      "metadata": {
        "id": "c0t04kuaR-Rl"
      },
      "source": [
        "data_f2 = pd.DataFrame({'id':[1,2,3,4,5,6],\n",
        "          'math':[50,60,70,80,90,100],\n",
        "          'english':[95,85,80,75,70,65],\n",
        "          'science':[40,55,60,65,70,75]})\n",
        "data_f2"
      ],
      "execution_count": null,
      "outputs": []
    },
    {
      "cell_type": "markdown",
      "metadata": {
        "id": "Y_zCepQLhTvA"
      },
      "source": [
        "**ソートの方法**\n",
        "\n",
        "特定のカラムだけソートする場合"
      ]
    },
    {
      "cell_type": "code",
      "metadata": {
        "id": "Sg7fx5XDhfCE"
      },
      "source": [
        "data_f1.height.sort_values()"
      ],
      "execution_count": null,
      "outputs": []
    },
    {
      "cell_type": "markdown",
      "metadata": {
        "id": "Jy0Cmtj4Sheb"
      },
      "source": [
        "ソートの方法\n",
        "f1のフレームのweightでソートしてみます。"
      ]
    },
    {
      "cell_type": "code",
      "metadata": {
        "id": "wlZQPqhhSrA4"
      },
      "source": [
        "data_f1.sort_values(by=[\"weight\"], ascending=True)"
      ],
      "execution_count": null,
      "outputs": []
    },
    {
      "cell_type": "markdown",
      "metadata": {
        "id": "d3bKZvA7TN0x"
      },
      "source": [
        "**データ結合**\n",
        "\n",
        "内部結合（inner join）"
      ]
    },
    {
      "cell_type": "code",
      "metadata": {
        "id": "qN9ged6JTV1p"
      },
      "source": [
        "data_m = pd.merge(data_f1,data_f2)\n",
        "data_m"
      ],
      "execution_count": null,
      "outputs": []
    },
    {
      "cell_type": "markdown",
      "metadata": {
        "id": "QxanONIyfs9_"
      },
      "source": [
        "全結合（outer join）"
      ]
    },
    {
      "cell_type": "code",
      "metadata": {
        "id": "VTmQiJ0Hf2Jp"
      },
      "source": [
        "data_mo = pd.merge(data_f1,data_f2,how = 'outer')\n",
        "data_mo"
      ],
      "execution_count": null,
      "outputs": []
    },
    {
      "cell_type": "markdown",
      "metadata": {
        "id": "AynGPJHAgFxc"
      },
      "source": [
        "左外部結合"
      ]
    },
    {
      "cell_type": "code",
      "metadata": {
        "id": "tazU1CaIgNcz"
      },
      "source": [
        "data_lo = pd.merge(data_f1,data_f2,how = 'left')\n",
        "data_lo"
      ],
      "execution_count": null,
      "outputs": []
    },
    {
      "cell_type": "markdown",
      "metadata": {
        "id": "CnzxyTYVghQI"
      },
      "source": [
        "右外部結合"
      ]
    },
    {
      "cell_type": "code",
      "metadata": {
        "id": "KIG828ZMgk3y"
      },
      "source": [
        "data_mr = pd.merge(data_f1,data_f2,how = 'right')\n",
        "data_mr"
      ],
      "execution_count": null,
      "outputs": []
    },
    {
      "cell_type": "markdown",
      "metadata": {
        "id": "lD2f5yimuYR9"
      },
      "source": [
        "# numpy.ndarray型とPandas DataFrame型との相互変換"
      ]
    },
    {
      "cell_type": "code",
      "metadata": {
        "id": "gJonGsqMuXhd"
      },
      "source": [
        "import pandas as pd\n",
        "import numpy as np"
      ],
      "execution_count": null,
      "outputs": []
    },
    {
      "cell_type": "markdown",
      "metadata": {
        "id": "eVocM3Kgu1ib"
      },
      "source": [
        "再度、簡単なDateFrameを作成してみよう"
      ]
    },
    {
      "cell_type": "code",
      "source": [
        "import numpy as np\n",
        "import pandas as pd\n",
        "data_f1 = pd.DataFrame({'name':['ando','ito','kato','sato'],\n",
        "          'id':[1,2,3,4],\n",
        "          'age':[30,40,50,60],\n",
        "          'weight':[92,43,58,78],\n",
        "          'height':[178,172,155,168]})\n",
        "data_f1"
      ],
      "metadata": {
        "id": "fX89ayOky8mJ"
      },
      "execution_count": null,
      "outputs": []
    },
    {
      "cell_type": "markdown",
      "metadata": {
        "id": "6xO3fA_5vHJU"
      },
      "source": [
        "次にnumpy.ndarray型に変更します。\n",
        "\n",
        "valuesプロパティを使うと簡単にデータ部分の値をnumpy.ndarray型で取得することができます。"
      ]
    },
    {
      "cell_type": "code",
      "metadata": {
        "id": "VYoi7H73vJ0V"
      },
      "source": [
        "data = data_f1.values\n",
        "data"
      ],
      "execution_count": null,
      "outputs": []
    },
    {
      "cell_type": "markdown",
      "metadata": {
        "id": "OHUB3ekUvVIM"
      },
      "source": [
        "上の方法では値しか取れていませんので、必要に応じてカラムのタイトルを取得します。"
      ]
    },
    {
      "cell_type": "code",
      "metadata": {
        "id": "Tnp8Rr67vXRR"
      },
      "source": [
        "columns = data_f1.columns\n",
        "columns"
      ],
      "execution_count": null,
      "outputs": []
    },
    {
      "cell_type": "markdown",
      "metadata": {
        "id": "eKy-ruLCvghq"
      },
      "source": [
        "型の確認をします"
      ]
    },
    {
      "cell_type": "code",
      "metadata": {
        "id": "cx819f7dvltp"
      },
      "source": [
        "type(data)"
      ],
      "execution_count": null,
      "outputs": []
    },
    {
      "cell_type": "markdown",
      "metadata": {
        "id": "Yk3d0n41vuhQ"
      },
      "source": [
        "ndarray状態で特定の列のみをスライスします"
      ]
    },
    {
      "cell_type": "code",
      "metadata": {
        "id": "rTyJ4sD-vvke"
      },
      "source": [
        "features = data[:,:2]\n",
        "features"
      ],
      "execution_count": null,
      "outputs": []
    },
    {
      "cell_type": "markdown",
      "metadata": {
        "id": "PyBGOg2pv9bw"
      },
      "source": [
        "ndarrayのデータをPandasにするには次のようにします。\n",
        "\n",
        "つまり、通常のPandasデータを作成する方法です"
      ]
    },
    {
      "cell_type": "code",
      "metadata": {
        "id": "X3d6Rd__v_ZA"
      },
      "source": [
        "df = pd.DataFrame(data=data,columns=columns)\n",
        "df"
      ],
      "execution_count": null,
      "outputs": []
    },
    {
      "cell_type": "markdown",
      "metadata": {
        "id": "dJrfyO1Hw8DR"
      },
      "source": [
        "# 機械学習のためのデータ準備 CSVデータの読み込み\n",
        "機械学習をする場合にまずデータを準備しますが、csv形式でデータが準備される場合も多いと思います。\n",
        "\n",
        "データの確認や加工が簡単になるpandas形式で読み込むのがスタンダードになるのでやってみましょう！"
      ]
    },
    {
      "cell_type": "code",
      "metadata": {
        "id": "Y_A8_7V5xNn5"
      },
      "source": [
        "import numpy as np\n",
        "import scipy as sp\n",
        "from pandas import Series, DataFrame\n",
        "import pandas as pd\n",
        "import matplotlib.pyplot as plt\n",
        "import matplotlib as mlp\n",
        "import seaborn as sns\n",
        "import sklearn"
      ],
      "execution_count": null,
      "outputs": []
    },
    {
      "cell_type": "markdown",
      "metadata": {
        "id": "1f5QgBuYxZWp"
      },
      "source": [
        "CSV形式のファイルをpandas形式で読み込むには .read_csv() 関数を使います。\n",
        "\n",
        "ただしこれはカンマ区切りのcsv場合に使用します。タブ区切りの場合は read_table() を使用します。\n",
        "\n",
        "その前に、googleドライブにdataフォルダを作って、その中にsample.csvを入れておきます。\n",
        "\n",
        "ちなみにこんなデータを入れておきます。\n",
        "\n",
        "https://drive.google.com/file/d/1RqFovKQaAGZDaWKsfA8d_Yu1aUnTXWts/view?usp=sharing"
      ]
    },
    {
      "cell_type": "markdown",
      "metadata": {
        "id": "jcg9i1wwzMEO"
      },
      "source": [
        "# ColaboratoryでのGoogle Driveへのマウント\n",
        "以下のプログラムを使うと、drive/My Drive/のなかにgoogle driveのデータがはいります。"
      ]
    },
    {
      "cell_type": "code",
      "metadata": {
        "id": "CZl7-l7wzicM"
      },
      "source": [
        "from google.colab import drive\n",
        "drive.mount('/content/drive')"
      ],
      "execution_count": null,
      "outputs": []
    },
    {
      "cell_type": "markdown",
      "metadata": {
        "id": "yqKP79301f3e"
      },
      "source": [
        "認証してない場合は、確認コードをコピーして貼り付けて、認証してください。\n",
        "\n",
        "うまく動かない場合は、下記URLのサンプルプログラムを参考にしてみてください。\n",
        "\n",
        "https://colab.research.google.com/notebooks/io.ipynb\n",
        "\n",
        "先程googleドライブのマイドライブの下にdataというフォルダを作り、その中にsample.csvを入れておいたので、それを呼び出してみましょう。"
      ]
    },
    {
      "cell_type": "code",
      "metadata": {
        "id": "erIEYFTvxi2V"
      },
      "source": [
        "mydata = pd.read_csv('/content/drive/My Drive/data/sample.csv')"
      ],
      "execution_count": null,
      "outputs": []
    },
    {
      "cell_type": "markdown",
      "metadata": {
        "id": "hFPcSr2729sf"
      },
      "source": [
        "型の確認をします"
      ]
    },
    {
      "cell_type": "code",
      "metadata": {
        "id": "zvIMJzVd20LY"
      },
      "source": [
        "type(mydata)"
      ],
      "execution_count": null,
      "outputs": []
    },
    {
      "cell_type": "markdown",
      "metadata": {
        "id": "_gb1Ur_n3nVG"
      },
      "source": [
        "PandasのDataFrameが作成されましたので、表示してみましょう。"
      ]
    },
    {
      "cell_type": "code",
      "metadata": {
        "id": "N2nrD4Uf3waM"
      },
      "source": [
        "mydata"
      ],
      "execution_count": null,
      "outputs": []
    }
  ]
}