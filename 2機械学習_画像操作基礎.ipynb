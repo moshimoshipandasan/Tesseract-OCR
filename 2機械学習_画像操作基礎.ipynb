{
  "nbformat": 4,
  "nbformat_minor": 0,
  "metadata": {
    "colab": {
      "name": "2機械学習_画像操作基礎.ipynb",
      "provenance": [],
      "mount_file_id": "1MikiWbeQWu44DDbHdik4Mmbql5XbJQ8J",
      "authorship_tag": "ABX9TyNAVVZOjIz7/SvV5JdZaFby",
      "include_colab_link": true
    },
    "kernelspec": {
      "name": "python3",
      "display_name": "Python 3"
    },
    "language_info": {
      "name": "python"
    }
  },
  "cells": [
    {
      "cell_type": "markdown",
      "metadata": {
        "id": "view-in-github",
        "colab_type": "text"
      },
      "source": [
        "<a href=\"https://colab.research.google.com/github/moshimoshipandasan/Tesseract-OCR/blob/main/2%E6%A9%9F%E6%A2%B0%E5%AD%A6%E7%BF%92_%E7%94%BB%E5%83%8F%E6%93%8D%E4%BD%9C%E5%9F%BA%E7%A4%8E.ipynb\" target=\"_parent\"><img src=\"https://colab.research.google.com/assets/colab-badge.svg\" alt=\"Open In Colab\"/></a>"
      ]
    },
    {
      "cell_type": "markdown",
      "source": [
        "#ここではAIに画像認識をさせるために、教師データ（サンプルとなる画像）にPythonでどの様な下処理をしているのか学んでみましょう\n",
        "今回使う画像を下記から名刺画像をダウンロード\n",
        "\n",
        "https://drive.google.com/file/d/1u2hQzXMHnYEWyr2lEpyz2i4_dum6v5KP/view?usp=sharing\n"
      ],
      "metadata": {
        "id": "uYZUJkQDwUxu"
      }
    },
    {
      "cell_type": "markdown",
      "source": [
        "# 機械学習でよく使うPillow, NumPy, OpenCVの基本的な違いと使い分け\n",
        "\n",
        "##Pillow(PIL): 画像処理ライブラリ\n",
        "\n",
        "NumPy: 科学計算ライブラリ\n",
        "\n",
        "OpenCV: コンピュータビジョンライブラリ"
      ],
      "metadata": {
        "id": "zy3lBaXs4Keq"
      }
    },
    {
      "cell_type": "code",
      "source": [
        "from PIL import Image\n",
        "from matplotlib import pyplot as plt\n",
        "import cv2"
      ],
      "metadata": {
        "id": "Mb4m1Pav4T1-"
      },
      "execution_count": null,
      "outputs": []
    },
    {
      "cell_type": "code",
      "source": [
        "#文字を読み取る画像を読み込んでみよう\n",
        "from google.colab import files\n",
        "f = files.upload()\n",
        "#読み込んだ画像のファイル名\n",
        "filename = list(f)[0]"
      ],
      "metadata": {
        "id": "pa2dxJvhAoVn"
      },
      "execution_count": null,
      "outputs": []
    },
    {
      "cell_type": "code",
      "source": [
        "#読み込んだ画像を表示してみる\n",
        "img = Image.open(filename)\n",
        "plt.imshow(img)"
      ],
      "metadata": {
        "id": "fJPdB2y_BSKG"
      },
      "execution_count": null,
      "outputs": []
    },
    {
      "cell_type": "code",
      "source": [
        "#画像の大きさの変更\n",
        "width = 700\n",
        "w = img.width\n",
        "ratio = width / img.width\n",
        "height = int(img.height * ratio)\n",
        "im_resized = img.resize((width,height))\n",
        "plt.imshow(im_resized)"
      ],
      "metadata": {
        "id": "5gOHKZNU65bR"
      },
      "execution_count": null,
      "outputs": []
    },
    {
      "cell_type": "code",
      "source": [
        "#画像の回転\n",
        "im_rotate = im_resized.rotate(90, expand=True) #回転\n",
        "plt.imshow(im_rotate)"
      ],
      "metadata": {
        "id": "SSQ3vQ8H4iFu"
      },
      "execution_count": null,
      "outputs": []
    },
    {
      "cell_type": "code",
      "source": [
        "#画像をグレースケール化\n",
        "#imgGray = im_rotate.convert(mode=\"L\")\n",
        "imgGray = im_rotate.convert(mode=\"1\")\n",
        "plt.imshow(imgGray)"
      ],
      "metadata": {
        "id": "fMWVrRvF6-_p"
      },
      "execution_count": null,
      "outputs": []
    },
    {
      "cell_type": "markdown",
      "source": [
        "参照\n",
        "pillowやopnecvで画像を表示させる方法\n",
        "\n",
        "https://qiita.com/mo256man/items/8912934578025adb5ce5"
      ],
      "metadata": {
        "id": "w_pN6AG37C9B"
      }
    }
  ]
}