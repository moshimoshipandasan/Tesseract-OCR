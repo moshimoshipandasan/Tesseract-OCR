{
  "nbformat": 4,
  "nbformat_minor": 0,
  "metadata": {
    "colab": {
      "provenance": [],
      "include_colab_link": true
    },
    "kernelspec": {
      "name": "ir",
      "display_name": "R"
    },
    "language_info": {
      "name": "python"
    },
    "gpuClass": "standard"
  },
  "cells": [
    {
      "cell_type": "markdown",
      "metadata": {
        "id": "view-in-github",
        "colab_type": "text"
      },
      "source": [
        "<a href=\"https://colab.research.google.com/github/moshimoshipandasan/Tesseract-OCR/blob/main/R%E5%AE%9F%E6%8A%80%E8%A9%A6%E9%A8%93%E8%A7%A3%E8%AA%AC2.ipynb\" target=\"_parent\"><img src=\"https://colab.research.google.com/assets/colab-badge.svg\" alt=\"Open In Colab\"/></a>"
      ]
    },
    {
      "cell_type": "markdown",
      "source": [
        "#R言語演習2\n",
        "<font color ='red'>【注意事項】</font>演習内容は自動保存されません。必ずメニューの<font color ='red'>[ファイル]-->[保存]</font>で保存しましょう。"
      ],
      "metadata": {
        "id": "APj2-l1v2yXJ"
      }
    },
    {
      "cell_type": "markdown",
      "source": [
        "# 問題1\n",
        "for文を使って、自然数nを入力したとき、1からnまでの総和を出力する関数prob01を作成せよ。\n",
        "（1 からn まで順番に足して求める。なお、求める値はn*(n+1)/2 であることは既知のはず）"
      ],
      "metadata": {
        "id": "nhT76bVC3n2W"
      }
    },
    {
      "cell_type": "code",
      "source": [
        "# 問題1の解答\n",
        "prob01 <- function(n){\n",
        "  x <- 0\n",
        "  for(i in 1:n){\n",
        "    x <- x + i\n",
        "  }\n",
        "  return(x)\n",
        "}\n",
        "\n",
        "prob01(1)\n",
        "prob01(10)\n",
        "prob01(100)"
      ],
      "metadata": {
        "id": "GdjhSzrQ3ijU",
        "colab": {
          "base_uri": "https://localhost:8080/",
          "height": 69
        },
        "outputId": "01808bc6-2dfc-4d8c-bdbd-4f71aec62bb5"
      },
      "execution_count": null,
      "outputs": [
        {
          "output_type": "display_data",
          "data": {
            "text/html": [
              "1"
            ],
            "text/markdown": "1",
            "text/latex": "1",
            "text/plain": [
              "[1] 1"
            ]
          },
          "metadata": {}
        },
        {
          "output_type": "display_data",
          "data": {
            "text/html": [
              "55"
            ],
            "text/markdown": "55",
            "text/latex": "55",
            "text/plain": [
              "[1] 55"
            ]
          },
          "metadata": {}
        },
        {
          "output_type": "display_data",
          "data": {
            "text/html": [
              "5050"
            ],
            "text/markdown": "5050",
            "text/latex": "5050",
            "text/plain": [
              "[1] 5050"
            ]
          },
          "metadata": {}
        }
      ]
    },
    {
      "cell_type": "markdown",
      "source": [
        "#問題2\n",
        "自然数n を入力したとき、1 からn まで順番に以下を要素とするベクトルを出力する関数prob02 を作成せよ。\n",
        "* 3 の倍数に対応する要素は”Fizz”とする。\n",
        "* 5 の倍数に対応する要素は”Buzz”とする。\n",
        "* 特に、3 の倍数かつ5 の倍数に対応する要素は”FizzBuzz”とする。\n",
        "* 3 の倍数でも5 の倍数でもない数に対応する要素は、その数値に該当する数字とする。"
      ],
      "metadata": {
        "id": "U1wpKrGU4cHs"
      }
    },
    {
      "cell_type": "code",
      "source": [
        "#問題2の解答\n",
        "prob02 <- function(n){\n",
        "  v <- NULL\n",
        "  for(i in 1:n){\n",
        "    if(i %% 3 == 0){\n",
        "      if(i %% 5 == 0){\n",
        "        x <- \"FizzBuzz\"\n",
        "      }\n",
        "      else{\n",
        "        x <- \"Fizz\"\n",
        "      }\n",
        "    }\n",
        "    else{\n",
        "      if(i %% 5 == 0){\n",
        "        x <- \"Buzz\"\n",
        "      }\n",
        "      else{\n",
        "        x <- i\n",
        "      }\n",
        "    }\n",
        "    v <- c(v, x)\n",
        "  }\n",
        "  return(v)\n",
        "}\n",
        "\n",
        "prob02(50)"
      ],
      "metadata": {
        "colab": {
          "base_uri": "https://localhost:8080/",
          "height": 52
        },
        "id": "o4W-rQ4y4wHs",
        "outputId": "db78bdd6-1881-4884-ff31-76407c0236b0"
      },
      "execution_count": null,
      "outputs": [
        {
          "output_type": "display_data",
          "data": {
            "text/html": [
              "<style>\n",
              ".list-inline {list-style: none; margin:0; padding: 0}\n",
              ".list-inline>li {display: inline-block}\n",
              ".list-inline>li:not(:last-child)::after {content: \"\\00b7\"; padding: 0 .5ex}\n",
              "</style>\n",
              "<ol class=list-inline><li>'1'</li><li>'2'</li><li>'Fizz'</li><li>'4'</li><li>'Buzz'</li><li>'Fizz'</li><li>'7'</li><li>'8'</li><li>'Fizz'</li><li>'Buzz'</li><li>'11'</li><li>'Fizz'</li><li>'13'</li><li>'14'</li><li>'FizzBuzz'</li><li>'16'</li><li>'17'</li><li>'Fizz'</li><li>'19'</li><li>'Buzz'</li><li>'Fizz'</li><li>'22'</li><li>'23'</li><li>'Fizz'</li><li>'Buzz'</li><li>'26'</li><li>'Fizz'</li><li>'28'</li><li>'29'</li><li>'FizzBuzz'</li><li>'31'</li><li>'32'</li><li>'Fizz'</li><li>'34'</li><li>'Buzz'</li><li>'Fizz'</li><li>'37'</li><li>'38'</li><li>'Fizz'</li><li>'Buzz'</li><li>'41'</li><li>'Fizz'</li><li>'43'</li><li>'44'</li><li>'FizzBuzz'</li><li>'46'</li><li>'47'</li><li>'Fizz'</li><li>'49'</li><li>'Buzz'</li></ol>\n"
            ],
            "text/markdown": "1. '1'\n2. '2'\n3. 'Fizz'\n4. '4'\n5. 'Buzz'\n6. 'Fizz'\n7. '7'\n8. '8'\n9. 'Fizz'\n10. 'Buzz'\n11. '11'\n12. 'Fizz'\n13. '13'\n14. '14'\n15. 'FizzBuzz'\n16. '16'\n17. '17'\n18. 'Fizz'\n19. '19'\n20. 'Buzz'\n21. 'Fizz'\n22. '22'\n23. '23'\n24. 'Fizz'\n25. 'Buzz'\n26. '26'\n27. 'Fizz'\n28. '28'\n29. '29'\n30. 'FizzBuzz'\n31. '31'\n32. '32'\n33. 'Fizz'\n34. '34'\n35. 'Buzz'\n36. 'Fizz'\n37. '37'\n38. '38'\n39. 'Fizz'\n40. 'Buzz'\n41. '41'\n42. 'Fizz'\n43. '43'\n44. '44'\n45. 'FizzBuzz'\n46. '46'\n47. '47'\n48. 'Fizz'\n49. '49'\n50. 'Buzz'\n\n\n",
            "text/latex": "\\begin{enumerate*}\n\\item '1'\n\\item '2'\n\\item 'Fizz'\n\\item '4'\n\\item 'Buzz'\n\\item 'Fizz'\n\\item '7'\n\\item '8'\n\\item 'Fizz'\n\\item 'Buzz'\n\\item '11'\n\\item 'Fizz'\n\\item '13'\n\\item '14'\n\\item 'FizzBuzz'\n\\item '16'\n\\item '17'\n\\item 'Fizz'\n\\item '19'\n\\item 'Buzz'\n\\item 'Fizz'\n\\item '22'\n\\item '23'\n\\item 'Fizz'\n\\item 'Buzz'\n\\item '26'\n\\item 'Fizz'\n\\item '28'\n\\item '29'\n\\item 'FizzBuzz'\n\\item '31'\n\\item '32'\n\\item 'Fizz'\n\\item '34'\n\\item 'Buzz'\n\\item 'Fizz'\n\\item '37'\n\\item '38'\n\\item 'Fizz'\n\\item 'Buzz'\n\\item '41'\n\\item 'Fizz'\n\\item '43'\n\\item '44'\n\\item 'FizzBuzz'\n\\item '46'\n\\item '47'\n\\item 'Fizz'\n\\item '49'\n\\item 'Buzz'\n\\end{enumerate*}\n",
            "text/plain": [
              " [1] \"1\"        \"2\"        \"Fizz\"     \"4\"        \"Buzz\"     \"Fizz\"    \n",
              " [7] \"7\"        \"8\"        \"Fizz\"     \"Buzz\"     \"11\"       \"Fizz\"    \n",
              "[13] \"13\"       \"14\"       \"FizzBuzz\" \"16\"       \"17\"       \"Fizz\"    \n",
              "[19] \"19\"       \"Buzz\"     \"Fizz\"     \"22\"       \"23\"       \"Fizz\"    \n",
              "[25] \"Buzz\"     \"26\"       \"Fizz\"     \"28\"       \"29\"       \"FizzBuzz\"\n",
              "[31] \"31\"       \"32\"       \"Fizz\"     \"34\"       \"Buzz\"     \"Fizz\"    \n",
              "[37] \"37\"       \"38\"       \"Fizz\"     \"Buzz\"     \"41\"       \"Fizz\"    \n",
              "[43] \"43\"       \"44\"       \"FizzBuzz\" \"46\"       \"47\"       \"Fizz\"    \n",
              "[49] \"49\"       \"Buzz\"    "
            ]
          },
          "metadata": {}
        }
      ]
    },
    {
      "cell_type": "code",
      "source": [
        "#問題2の別解\n",
        "prob02 <- function(n){\n",
        "  v <- NULL\n",
        "  for(i in 1:n){\n",
        "    if(i %% 3 == 0 && i %% 5 == 0){ # 3の倍数かつ5の倍数\n",
        "      x <- \"FizzBuzz\"\n",
        "    }\n",
        "    else if(i %% 3 == 0){ # 3の倍数\n",
        "      x <- \"Fizz\"\n",
        "    }\n",
        "    else if(i %% 5 == 0){ # 5の倍数\n",
        "      x <- \"Buzz\"\n",
        "    }\n",
        "    else{ # その他\n",
        "      x <- i\n",
        "    }\n",
        "    v <- c(v, x)\n",
        "  }\n",
        "  return(v)\n",
        "}\n",
        "\n",
        "prob02(50)"
      ],
      "metadata": {
        "colab": {
          "base_uri": "https://localhost:8080/",
          "height": 52
        },
        "id": "TGw_SGkC5CUq",
        "outputId": "91864e77-624f-4c93-a82b-58153a5216fc"
      },
      "execution_count": null,
      "outputs": [
        {
          "output_type": "display_data",
          "data": {
            "text/html": [
              "<style>\n",
              ".list-inline {list-style: none; margin:0; padding: 0}\n",
              ".list-inline>li {display: inline-block}\n",
              ".list-inline>li:not(:last-child)::after {content: \"\\00b7\"; padding: 0 .5ex}\n",
              "</style>\n",
              "<ol class=list-inline><li>'1'</li><li>'2'</li><li>'Fizz'</li><li>'4'</li><li>'Buzz'</li><li>'Fizz'</li><li>'7'</li><li>'8'</li><li>'Fizz'</li><li>'Buzz'</li><li>'11'</li><li>'Fizz'</li><li>'13'</li><li>'14'</li><li>'FizzBuzz'</li><li>'16'</li><li>'17'</li><li>'Fizz'</li><li>'19'</li><li>'Buzz'</li><li>'Fizz'</li><li>'22'</li><li>'23'</li><li>'Fizz'</li><li>'Buzz'</li><li>'26'</li><li>'Fizz'</li><li>'28'</li><li>'29'</li><li>'FizzBuzz'</li><li>'31'</li><li>'32'</li><li>'Fizz'</li><li>'34'</li><li>'Buzz'</li><li>'Fizz'</li><li>'37'</li><li>'38'</li><li>'Fizz'</li><li>'Buzz'</li><li>'41'</li><li>'Fizz'</li><li>'43'</li><li>'44'</li><li>'FizzBuzz'</li><li>'46'</li><li>'47'</li><li>'Fizz'</li><li>'49'</li><li>'Buzz'</li></ol>\n"
            ],
            "text/markdown": "1. '1'\n2. '2'\n3. 'Fizz'\n4. '4'\n5. 'Buzz'\n6. 'Fizz'\n7. '7'\n8. '8'\n9. 'Fizz'\n10. 'Buzz'\n11. '11'\n12. 'Fizz'\n13. '13'\n14. '14'\n15. 'FizzBuzz'\n16. '16'\n17. '17'\n18. 'Fizz'\n19. '19'\n20. 'Buzz'\n21. 'Fizz'\n22. '22'\n23. '23'\n24. 'Fizz'\n25. 'Buzz'\n26. '26'\n27. 'Fizz'\n28. '28'\n29. '29'\n30. 'FizzBuzz'\n31. '31'\n32. '32'\n33. 'Fizz'\n34. '34'\n35. 'Buzz'\n36. 'Fizz'\n37. '37'\n38. '38'\n39. 'Fizz'\n40. 'Buzz'\n41. '41'\n42. 'Fizz'\n43. '43'\n44. '44'\n45. 'FizzBuzz'\n46. '46'\n47. '47'\n48. 'Fizz'\n49. '49'\n50. 'Buzz'\n\n\n",
            "text/latex": "\\begin{enumerate*}\n\\item '1'\n\\item '2'\n\\item 'Fizz'\n\\item '4'\n\\item 'Buzz'\n\\item 'Fizz'\n\\item '7'\n\\item '8'\n\\item 'Fizz'\n\\item 'Buzz'\n\\item '11'\n\\item 'Fizz'\n\\item '13'\n\\item '14'\n\\item 'FizzBuzz'\n\\item '16'\n\\item '17'\n\\item 'Fizz'\n\\item '19'\n\\item 'Buzz'\n\\item 'Fizz'\n\\item '22'\n\\item '23'\n\\item 'Fizz'\n\\item 'Buzz'\n\\item '26'\n\\item 'Fizz'\n\\item '28'\n\\item '29'\n\\item 'FizzBuzz'\n\\item '31'\n\\item '32'\n\\item 'Fizz'\n\\item '34'\n\\item 'Buzz'\n\\item 'Fizz'\n\\item '37'\n\\item '38'\n\\item 'Fizz'\n\\item 'Buzz'\n\\item '41'\n\\item 'Fizz'\n\\item '43'\n\\item '44'\n\\item 'FizzBuzz'\n\\item '46'\n\\item '47'\n\\item 'Fizz'\n\\item '49'\n\\item 'Buzz'\n\\end{enumerate*}\n",
            "text/plain": [
              " [1] \"1\"        \"2\"        \"Fizz\"     \"4\"        \"Buzz\"     \"Fizz\"    \n",
              " [7] \"7\"        \"8\"        \"Fizz\"     \"Buzz\"     \"11\"       \"Fizz\"    \n",
              "[13] \"13\"       \"14\"       \"FizzBuzz\" \"16\"       \"17\"       \"Fizz\"    \n",
              "[19] \"19\"       \"Buzz\"     \"Fizz\"     \"22\"       \"23\"       \"Fizz\"    \n",
              "[25] \"Buzz\"     \"26\"       \"Fizz\"     \"28\"       \"29\"       \"FizzBuzz\"\n",
              "[31] \"31\"       \"32\"       \"Fizz\"     \"34\"       \"Buzz\"     \"Fizz\"    \n",
              "[37] \"37\"       \"38\"       \"Fizz\"     \"Buzz\"     \"41\"       \"Fizz\"    \n",
              "[43] \"43\"       \"44\"       \"FizzBuzz\" \"46\"       \"47\"       \"Fizz\"    \n",
              "[49] \"49\"       \"Buzz\"    "
            ]
          },
          "metadata": {}
        }
      ]
    },
    {
      "cell_type": "markdown",
      "source": [
        "#問題3\n",
        "自然数n を入力したとき、n 以下のすべての平方数を昇順に並べたベクトルを出力する関数prob03 を作成せよ。"
      ],
      "metadata": {
        "id": "GYfX5lQi6op3"
      }
    },
    {
      "cell_type": "code",
      "source": [
        "#問題3の解答\n",
        "prob03 <- function(n){\n",
        "  v <- NULL\n",
        "  i <- 1\n",
        "  while(i^2 <= n){\n",
        "    v <- c(v, i^2)\n",
        "    i <- i + 1\n",
        "  }\n",
        "  return(v)\n",
        "}\n",
        "\n",
        "prob03(100)\n",
        "prob03(1000)"
      ],
      "metadata": {
        "colab": {
          "base_uri": "https://localhost:8080/",
          "height": 52
        },
        "id": "W0XGvdXf62GW",
        "outputId": "0b2965e4-6fc3-4848-f2c1-467decf5c032"
      },
      "execution_count": null,
      "outputs": [
        {
          "output_type": "display_data",
          "data": {
            "text/html": [
              "<style>\n",
              ".list-inline {list-style: none; margin:0; padding: 0}\n",
              ".list-inline>li {display: inline-block}\n",
              ".list-inline>li:not(:last-child)::after {content: \"\\00b7\"; padding: 0 .5ex}\n",
              "</style>\n",
              "<ol class=list-inline><li>1</li><li>4</li><li>9</li><li>16</li><li>25</li><li>36</li><li>49</li><li>64</li><li>81</li><li>100</li></ol>\n"
            ],
            "text/markdown": "1. 1\n2. 4\n3. 9\n4. 16\n5. 25\n6. 36\n7. 49\n8. 64\n9. 81\n10. 100\n\n\n",
            "text/latex": "\\begin{enumerate*}\n\\item 1\n\\item 4\n\\item 9\n\\item 16\n\\item 25\n\\item 36\n\\item 49\n\\item 64\n\\item 81\n\\item 100\n\\end{enumerate*}\n",
            "text/plain": [
              " [1]   1   4   9  16  25  36  49  64  81 100"
            ]
          },
          "metadata": {}
        },
        {
          "output_type": "display_data",
          "data": {
            "text/html": [
              "<style>\n",
              ".list-inline {list-style: none; margin:0; padding: 0}\n",
              ".list-inline>li {display: inline-block}\n",
              ".list-inline>li:not(:last-child)::after {content: \"\\00b7\"; padding: 0 .5ex}\n",
              "</style>\n",
              "<ol class=list-inline><li>1</li><li>4</li><li>9</li><li>16</li><li>25</li><li>36</li><li>49</li><li>64</li><li>81</li><li>100</li><li>121</li><li>144</li><li>169</li><li>196</li><li>225</li><li>256</li><li>289</li><li>324</li><li>361</li><li>400</li><li>441</li><li>484</li><li>529</li><li>576</li><li>625</li><li>676</li><li>729</li><li>784</li><li>841</li><li>900</li><li>961</li></ol>\n"
            ],
            "text/markdown": "1. 1\n2. 4\n3. 9\n4. 16\n5. 25\n6. 36\n7. 49\n8. 64\n9. 81\n10. 100\n11. 121\n12. 144\n13. 169\n14. 196\n15. 225\n16. 256\n17. 289\n18. 324\n19. 361\n20. 400\n21. 441\n22. 484\n23. 529\n24. 576\n25. 625\n26. 676\n27. 729\n28. 784\n29. 841\n30. 900\n31. 961\n\n\n",
            "text/latex": "\\begin{enumerate*}\n\\item 1\n\\item 4\n\\item 9\n\\item 16\n\\item 25\n\\item 36\n\\item 49\n\\item 64\n\\item 81\n\\item 100\n\\item 121\n\\item 144\n\\item 169\n\\item 196\n\\item 225\n\\item 256\n\\item 289\n\\item 324\n\\item 361\n\\item 400\n\\item 441\n\\item 484\n\\item 529\n\\item 576\n\\item 625\n\\item 676\n\\item 729\n\\item 784\n\\item 841\n\\item 900\n\\item 961\n\\end{enumerate*}\n",
            "text/plain": [
              " [1]   1   4   9  16  25  36  49  64  81 100 121 144 169 196 225 256 289 324 361\n",
              "[20] 400 441 484 529 576 625 676 729 784 841 900 961"
            ]
          },
          "metadata": {}
        }
      ]
    },
    {
      "cell_type": "markdown",
      "source": [
        "#問題4\n",
        "自然数n を2 進法で表現したい。自然数n を入力したとき、n を2 進法で表現した上位の桁からの数を要素としたベクトルv を出力する関数prob04 を作成せよ。<br>\n",
        "（10 進法で表された数n を2 進法で基数変換するとき、n を2 で割った商と余りを求め、さらにその商を2 で割った商と余りを求めることを、商が0 になるまで繰り返したことに注意）<br>"
      ],
      "metadata": {
        "id": "cczD2ube7pnd"
      }
    },
    {
      "cell_type": "code",
      "source": [
        "#問題4の解放\n",
        "prob04 <- function(n){\n",
        "  v <- NULL\n",
        "  r <- 0\n",
        "  while(n > 0){ # 商が0より大きければ繰り返す\n",
        "    r <- n %% 2 # 余り\n",
        "    n <- n %/% 2 # 商\n",
        "    v <- c(r, v)\n",
        "  }\n",
        "  return(v)\n",
        "}\n",
        "\n",
        "prob04(1)\n",
        "prob04(4)\n",
        "prob04(9)\n",
        "prob04(25)"
      ],
      "metadata": {
        "colab": {
          "base_uri": "https://localhost:8080/",
          "height": 86
        },
        "id": "ZmCpGibI727j",
        "outputId": "98e4aa54-a2b7-4447-8861-561290636a08"
      },
      "execution_count": null,
      "outputs": [
        {
          "output_type": "display_data",
          "data": {
            "text/html": [
              "1"
            ],
            "text/markdown": "1",
            "text/latex": "1",
            "text/plain": [
              "[1] 1"
            ]
          },
          "metadata": {}
        },
        {
          "output_type": "display_data",
          "data": {
            "text/html": [
              "<style>\n",
              ".list-inline {list-style: none; margin:0; padding: 0}\n",
              ".list-inline>li {display: inline-block}\n",
              ".list-inline>li:not(:last-child)::after {content: \"\\00b7\"; padding: 0 .5ex}\n",
              "</style>\n",
              "<ol class=list-inline><li>1</li><li>0</li><li>0</li></ol>\n"
            ],
            "text/markdown": "1. 1\n2. 0\n3. 0\n\n\n",
            "text/latex": "\\begin{enumerate*}\n\\item 1\n\\item 0\n\\item 0\n\\end{enumerate*}\n",
            "text/plain": [
              "[1] 1 0 0"
            ]
          },
          "metadata": {}
        },
        {
          "output_type": "display_data",
          "data": {
            "text/html": [
              "<style>\n",
              ".list-inline {list-style: none; margin:0; padding: 0}\n",
              ".list-inline>li {display: inline-block}\n",
              ".list-inline>li:not(:last-child)::after {content: \"\\00b7\"; padding: 0 .5ex}\n",
              "</style>\n",
              "<ol class=list-inline><li>1</li><li>0</li><li>0</li><li>1</li></ol>\n"
            ],
            "text/markdown": "1. 1\n2. 0\n3. 0\n4. 1\n\n\n",
            "text/latex": "\\begin{enumerate*}\n\\item 1\n\\item 0\n\\item 0\n\\item 1\n\\end{enumerate*}\n",
            "text/plain": [
              "[1] 1 0 0 1"
            ]
          },
          "metadata": {}
        },
        {
          "output_type": "display_data",
          "data": {
            "text/html": [
              "<style>\n",
              ".list-inline {list-style: none; margin:0; padding: 0}\n",
              ".list-inline>li {display: inline-block}\n",
              ".list-inline>li:not(:last-child)::after {content: \"\\00b7\"; padding: 0 .5ex}\n",
              "</style>\n",
              "<ol class=list-inline><li>1</li><li>1</li><li>0</li><li>0</li><li>1</li></ol>\n"
            ],
            "text/markdown": "1. 1\n2. 1\n3. 0\n4. 0\n5. 1\n\n\n",
            "text/latex": "\\begin{enumerate*}\n\\item 1\n\\item 1\n\\item 0\n\\item 0\n\\item 1\n\\end{enumerate*}\n",
            "text/plain": [
              "[1] 1 1 0 0 1"
            ]
          },
          "metadata": {}
        }
      ]
    },
    {
      "cell_type": "markdown",
      "source": [
        "<font color =\"red\">【POINT1】2進数の各桁</font><br>\n",
        "下記のパターンはよく出るので絶対に覚える。\n",
        "```R\n",
        "v <- NULL\n",
        "r <- 0\n",
        "while(n > 0){ # 商が0より大きければ繰り返す\n",
        "  r <- n %% 2 # 余り\n",
        "  n <- n %/% 2 # 商\n",
        "  v <- c(r, v)\n",
        "}\n",
        "```"
      ],
      "metadata": {
        "id": "bLj990wxvYbK"
      }
    },
    {
      "cell_type": "markdown",
      "source": [
        "#問題5 コラッツ予想\n",
        "任意の自然数n に対して、次の操作を繰り返すと何回かで必ず1 になるという予想がある。\n",
        "* n が偶数のとき、n を2 で割る\n",
        "* n が奇数のとき、n を3 倍して1 を加える\n",
        "\n",
        "なおn=1 のときは1→4→2→1 を繰り返すことになるので、1 になったら操作を終了することにする。\n",
        "このとき、自然数n を入力したとき、上記の操作で得られる数値を初期値n から順番に繰り返し表示し、1 になったら操作を終了し、初期値n から処理終了時の1 までに現れた数を要素とするベクトルを出力する関数prob05 を作成せよ。"
      ],
      "metadata": {
        "id": "ayYfxNd88GV_"
      }
    },
    {
      "cell_type": "code",
      "source": [
        "#問題5の解答\n",
        "prob05 <- function(n){\n",
        "  sqn <- n\n",
        "  \n",
        "  while(n > 1){\n",
        "    if(n %% 2 == 0){\n",
        "       n <- n / 2\n",
        "    }\n",
        "    else{\n",
        "       n <- 3 * n + 1\n",
        "    }\n",
        "    sqn <- c(sqn, n)\n",
        "  }\n",
        "  \n",
        "  return(sqn)\n",
        "}\n",
        "\n",
        "prob05(3)\n",
        "prob05(7)"
      ],
      "metadata": {
        "id": "wOJ0mNp18cIh",
        "colab": {
          "base_uri": "https://localhost:8080/",
          "height": 52
        },
        "outputId": "94fa8f15-1457-4bf9-c4ba-e7d6cfed997a"
      },
      "execution_count": null,
      "outputs": [
        {
          "output_type": "display_data",
          "data": {
            "text/html": [
              "<style>\n",
              ".list-inline {list-style: none; margin:0; padding: 0}\n",
              ".list-inline>li {display: inline-block}\n",
              ".list-inline>li:not(:last-child)::after {content: \"\\00b7\"; padding: 0 .5ex}\n",
              "</style>\n",
              "<ol class=list-inline><li>3</li><li>10</li><li>5</li><li>16</li><li>8</li><li>4</li><li>2</li><li>1</li></ol>\n"
            ],
            "text/markdown": "1. 3\n2. 10\n3. 5\n4. 16\n5. 8\n6. 4\n7. 2\n8. 1\n\n\n",
            "text/latex": "\\begin{enumerate*}\n\\item 3\n\\item 10\n\\item 5\n\\item 16\n\\item 8\n\\item 4\n\\item 2\n\\item 1\n\\end{enumerate*}\n",
            "text/plain": [
              "[1]  3 10  5 16  8  4  2  1"
            ]
          },
          "metadata": {}
        },
        {
          "output_type": "display_data",
          "data": {
            "text/html": [
              "<style>\n",
              ".list-inline {list-style: none; margin:0; padding: 0}\n",
              ".list-inline>li {display: inline-block}\n",
              ".list-inline>li:not(:last-child)::after {content: \"\\00b7\"; padding: 0 .5ex}\n",
              "</style>\n",
              "<ol class=list-inline><li>7</li><li>22</li><li>11</li><li>34</li><li>17</li><li>52</li><li>26</li><li>13</li><li>40</li><li>20</li><li>10</li><li>5</li><li>16</li><li>8</li><li>4</li><li>2</li><li>1</li></ol>\n"
            ],
            "text/markdown": "1. 7\n2. 22\n3. 11\n4. 34\n5. 17\n6. 52\n7. 26\n8. 13\n9. 40\n10. 20\n11. 10\n12. 5\n13. 16\n14. 8\n15. 4\n16. 2\n17. 1\n\n\n",
            "text/latex": "\\begin{enumerate*}\n\\item 7\n\\item 22\n\\item 11\n\\item 34\n\\item 17\n\\item 52\n\\item 26\n\\item 13\n\\item 40\n\\item 20\n\\item 10\n\\item 5\n\\item 16\n\\item 8\n\\item 4\n\\item 2\n\\item 1\n\\end{enumerate*}\n",
            "text/plain": [
              " [1]  7 22 11 34 17 52 26 13 40 20 10  5 16  8  4  2  1"
            ]
          },
          "metadata": {}
        }
      ]
    },
    {
      "cell_type": "markdown",
      "source": [
        "<font color =\"red\">ちなみにコラッツ予想を証明できると1億2千万円がもらえる。</font><br>\n",
        "詳細 https://mathprize.net/ja/posts/collatz-conjecture/"
      ],
      "metadata": {
        "id": "-DWmBJExjSGq"
      }
    },
    {
      "cell_type": "markdown",
      "source": [
        "#問題6\n",
        "自然数を要素とするベクトルv を入力したとき、その中に自然数n が存在するかを検索し、存在する場合はベクトル中の先頭から何番目か、存在しない場合はエラーコードとして-1 を出力する関数prob06を作成せよ。ただし、入力値はベクトルv と自然数n とし、ベクトルv 中に自然数n が存在する場合は、そのすべての位置を要素としたベクトルで出力すること"
      ],
      "metadata": {
        "id": "2AEjBFhs8kEc"
      }
    },
    {
      "cell_type": "code",
      "source": [
        "#問題6の解答\n",
        "#Linear search\n",
        "prob06 <- function(v, n){\n",
        "  len <- length(v)\n",
        "  flg <- 0\n",
        "  cnt <- NULL\n",
        "  \n",
        "  for(i in 1:len){\n",
        "    if(v[i] == n){\n",
        "      cnt <- c(cnt, i)\n",
        "    }\n",
        "  }\n",
        "\n",
        "  if(length(cnt) == 0){\n",
        "    cnt <- -1\n",
        "  }\n",
        "\n",
        "  return(cnt)\n",
        "}\n",
        "\n",
        "prob06(1:10, 5)\n",
        "\n",
        "#Case with no 1 in the vector\n",
        "a <- c(20, 4, 9, 4, 4, 15, 6, 10, 13, 3, 2, 19, 12, 18, 6, 4, 10, 19, 12, 3)\n",
        "a\n",
        "prob06(a, 1)\n",
        "\n",
        "#Case with multiple 1's in the vector\n",
        "a <- c(10, 19, 3, 6, 16, 9, 15, 4, 9, 1, 11, 4, 7, 8, 14, 1, 2, 8, 10, 14)\n",
        "a\n",
        "prob06(a, 1)"
      ],
      "metadata": {
        "colab": {
          "base_uri": "https://localhost:8080/",
          "height": 104
        },
        "id": "9vdmqAs38usR",
        "outputId": "9dd5d0ab-2bd1-4e61-e1a3-d540f9be1773"
      },
      "execution_count": null,
      "outputs": [
        {
          "output_type": "display_data",
          "data": {
            "text/html": [
              "5"
            ],
            "text/markdown": "5",
            "text/latex": "5",
            "text/plain": [
              "[1] 5"
            ]
          },
          "metadata": {}
        },
        {
          "output_type": "display_data",
          "data": {
            "text/html": [
              "<style>\n",
              ".list-inline {list-style: none; margin:0; padding: 0}\n",
              ".list-inline>li {display: inline-block}\n",
              ".list-inline>li:not(:last-child)::after {content: \"\\00b7\"; padding: 0 .5ex}\n",
              "</style>\n",
              "<ol class=list-inline><li>20</li><li>4</li><li>9</li><li>4</li><li>4</li><li>15</li><li>6</li><li>10</li><li>13</li><li>3</li><li>2</li><li>19</li><li>12</li><li>18</li><li>6</li><li>4</li><li>10</li><li>19</li><li>12</li><li>3</li></ol>\n"
            ],
            "text/markdown": "1. 20\n2. 4\n3. 9\n4. 4\n5. 4\n6. 15\n7. 6\n8. 10\n9. 13\n10. 3\n11. 2\n12. 19\n13. 12\n14. 18\n15. 6\n16. 4\n17. 10\n18. 19\n19. 12\n20. 3\n\n\n",
            "text/latex": "\\begin{enumerate*}\n\\item 20\n\\item 4\n\\item 9\n\\item 4\n\\item 4\n\\item 15\n\\item 6\n\\item 10\n\\item 13\n\\item 3\n\\item 2\n\\item 19\n\\item 12\n\\item 18\n\\item 6\n\\item 4\n\\item 10\n\\item 19\n\\item 12\n\\item 3\n\\end{enumerate*}\n",
            "text/plain": [
              " [1] 20  4  9  4  4 15  6 10 13  3  2 19 12 18  6  4 10 19 12  3"
            ]
          },
          "metadata": {}
        },
        {
          "output_type": "display_data",
          "data": {
            "text/html": [
              "-1"
            ],
            "text/markdown": "-1",
            "text/latex": "-1",
            "text/plain": [
              "[1] -1"
            ]
          },
          "metadata": {}
        },
        {
          "output_type": "display_data",
          "data": {
            "text/html": [
              "<style>\n",
              ".list-inline {list-style: none; margin:0; padding: 0}\n",
              ".list-inline>li {display: inline-block}\n",
              ".list-inline>li:not(:last-child)::after {content: \"\\00b7\"; padding: 0 .5ex}\n",
              "</style>\n",
              "<ol class=list-inline><li>10</li><li>19</li><li>3</li><li>6</li><li>16</li><li>9</li><li>15</li><li>4</li><li>9</li><li>1</li><li>11</li><li>4</li><li>7</li><li>8</li><li>14</li><li>1</li><li>2</li><li>8</li><li>10</li><li>14</li></ol>\n"
            ],
            "text/markdown": "1. 10\n2. 19\n3. 3\n4. 6\n5. 16\n6. 9\n7. 15\n8. 4\n9. 9\n10. 1\n11. 11\n12. 4\n13. 7\n14. 8\n15. 14\n16. 1\n17. 2\n18. 8\n19. 10\n20. 14\n\n\n",
            "text/latex": "\\begin{enumerate*}\n\\item 10\n\\item 19\n\\item 3\n\\item 6\n\\item 16\n\\item 9\n\\item 15\n\\item 4\n\\item 9\n\\item 1\n\\item 11\n\\item 4\n\\item 7\n\\item 8\n\\item 14\n\\item 1\n\\item 2\n\\item 8\n\\item 10\n\\item 14\n\\end{enumerate*}\n",
            "text/plain": [
              " [1] 10 19  3  6 16  9 15  4  9  1 11  4  7  8 14  1  2  8 10 14"
            ]
          },
          "metadata": {}
        },
        {
          "output_type": "display_data",
          "data": {
            "text/html": [
              "<style>\n",
              ".list-inline {list-style: none; margin:0; padding: 0}\n",
              ".list-inline>li {display: inline-block}\n",
              ".list-inline>li:not(:last-child)::after {content: \"\\00b7\"; padding: 0 .5ex}\n",
              "</style>\n",
              "<ol class=list-inline><li>10</li><li>16</li></ol>\n"
            ],
            "text/markdown": "1. 10\n2. 16\n\n\n",
            "text/latex": "\\begin{enumerate*}\n\\item 10\n\\item 16\n\\end{enumerate*}\n",
            "text/plain": [
              "[1] 10 16"
            ]
          },
          "metadata": {}
        }
      ]
    },
    {
      "cell_type": "markdown",
      "source": [
        "#問題7\n",
        "自然数n を入力したとき、n 段の九九の表を出力する関数prob07 を作成せよ。ただし、手順は以下の通\n",
        "りとする。\n",
        "* 初めに値が入っていないn 行n 列の行列kuku を定義する。\n",
        "* i を1 からn まで1 ずつ増加させて、以下の処理を繰り返す。\n",
        " * j を1 からn まで1 ずつ増加させて、以下の処理を繰り返す。\n",
        "   * kuku のi 行j 列の要素にi とj の積を代入する。"
      ],
      "metadata": {
        "id": "eRevtRvh9Mhu"
      }
    },
    {
      "cell_type": "code",
      "source": [
        "#問題7の解答\n",
        "#Times table (kuku)\n",
        "prob07 <- function(n){\n",
        "  kuku <- matrix(nrow = n, ncol = n)\n",
        "  for(i in 1:n){\n",
        "    for(j in 1:n){\n",
        "      kuku[i,j] <- i*j\n",
        "    }\n",
        "  }\n",
        "\n",
        "  return(kuku)\n",
        "}\n",
        "\n",
        "prob07(9)"
      ],
      "metadata": {
        "colab": {
          "base_uri": "https://localhost:8080/",
          "height": 317
        },
        "id": "59-WwVB49c4q",
        "outputId": "a7e3a9c7-b53d-4a55-cf88-6c83c7524592"
      },
      "execution_count": null,
      "outputs": [
        {
          "output_type": "display_data",
          "data": {
            "text/html": [
              "<table class=\"dataframe\">\n",
              "<caption>A matrix: 9 × 9 of type int</caption>\n",
              "<tbody>\n",
              "\t<tr><td>1</td><td> 2</td><td> 3</td><td> 4</td><td> 5</td><td> 6</td><td> 7</td><td> 8</td><td> 9</td></tr>\n",
              "\t<tr><td>2</td><td> 4</td><td> 6</td><td> 8</td><td>10</td><td>12</td><td>14</td><td>16</td><td>18</td></tr>\n",
              "\t<tr><td>3</td><td> 6</td><td> 9</td><td>12</td><td>15</td><td>18</td><td>21</td><td>24</td><td>27</td></tr>\n",
              "\t<tr><td>4</td><td> 8</td><td>12</td><td>16</td><td>20</td><td>24</td><td>28</td><td>32</td><td>36</td></tr>\n",
              "\t<tr><td>5</td><td>10</td><td>15</td><td>20</td><td>25</td><td>30</td><td>35</td><td>40</td><td>45</td></tr>\n",
              "\t<tr><td>6</td><td>12</td><td>18</td><td>24</td><td>30</td><td>36</td><td>42</td><td>48</td><td>54</td></tr>\n",
              "\t<tr><td>7</td><td>14</td><td>21</td><td>28</td><td>35</td><td>42</td><td>49</td><td>56</td><td>63</td></tr>\n",
              "\t<tr><td>8</td><td>16</td><td>24</td><td>32</td><td>40</td><td>48</td><td>56</td><td>64</td><td>72</td></tr>\n",
              "\t<tr><td>9</td><td>18</td><td>27</td><td>36</td><td>45</td><td>54</td><td>63</td><td>72</td><td>81</td></tr>\n",
              "</tbody>\n",
              "</table>\n"
            ],
            "text/markdown": "\nA matrix: 9 × 9 of type int\n\n| 1 |  2 |  3 |  4 |  5 |  6 |  7 |  8 |  9 |\n| 2 |  4 |  6 |  8 | 10 | 12 | 14 | 16 | 18 |\n| 3 |  6 |  9 | 12 | 15 | 18 | 21 | 24 | 27 |\n| 4 |  8 | 12 | 16 | 20 | 24 | 28 | 32 | 36 |\n| 5 | 10 | 15 | 20 | 25 | 30 | 35 | 40 | 45 |\n| 6 | 12 | 18 | 24 | 30 | 36 | 42 | 48 | 54 |\n| 7 | 14 | 21 | 28 | 35 | 42 | 49 | 56 | 63 |\n| 8 | 16 | 24 | 32 | 40 | 48 | 56 | 64 | 72 |\n| 9 | 18 | 27 | 36 | 45 | 54 | 63 | 72 | 81 |\n\n",
            "text/latex": "A matrix: 9 × 9 of type int\n\\begin{tabular}{lllllllll}\n\t 1 &  2 &  3 &  4 &  5 &  6 &  7 &  8 &  9\\\\\n\t 2 &  4 &  6 &  8 & 10 & 12 & 14 & 16 & 18\\\\\n\t 3 &  6 &  9 & 12 & 15 & 18 & 21 & 24 & 27\\\\\n\t 4 &  8 & 12 & 16 & 20 & 24 & 28 & 32 & 36\\\\\n\t 5 & 10 & 15 & 20 & 25 & 30 & 35 & 40 & 45\\\\\n\t 6 & 12 & 18 & 24 & 30 & 36 & 42 & 48 & 54\\\\\n\t 7 & 14 & 21 & 28 & 35 & 42 & 49 & 56 & 63\\\\\n\t 8 & 16 & 24 & 32 & 40 & 48 & 56 & 64 & 72\\\\\n\t 9 & 18 & 27 & 36 & 45 & 54 & 63 & 72 & 81\\\\\n\\end{tabular}\n",
            "text/plain": [
              "      [,1] [,2] [,3] [,4] [,5] [,6] [,7] [,8] [,9]\n",
              " [1,] 1     2    3    4    5    6    7    8    9  \n",
              " [2,] 2     4    6    8   10   12   14   16   18  \n",
              " [3,] 3     6    9   12   15   18   21   24   27  \n",
              " [4,] 4     8   12   16   20   24   28   32   36  \n",
              " [5,] 5    10   15   20   25   30   35   40   45  \n",
              " [6,] 6    12   18   24   30   36   42   48   54  \n",
              " [7,] 7    14   21   28   35   42   49   56   63  \n",
              " [8,] 8    16   24   32   40   48   56   64   72  \n",
              " [9,] 9    18   27   36   45   54   63   72   81  "
            ]
          },
          "metadata": {}
        }
      ]
    },
    {
      "cell_type": "code",
      "source": [
        "# メモ\n"
      ],
      "metadata": {
        "id": "rOJi5NtBkknJ"
      },
      "execution_count": null,
      "outputs": []
    },
    {
      "cell_type": "markdown",
      "source": [
        "#問題8-1\n",
        "自然数n を入力したとき、n の各桁の数の総和を出力する関数prob08_1 を作成せよ。"
      ],
      "metadata": {
        "id": "zP4WTcFZ9nFW"
      }
    },
    {
      "cell_type": "code",
      "source": [
        "#問題8-1の解答\n",
        "#The sum of the values for each digit\n",
        "prob08_1 <- function(n){\n",
        "  x <- 0\n",
        "  while(n > 0){ # 商が0より大きければ繰り返す\n",
        "    r <- n %% 10 # 余り\n",
        "    n <- n %/% 10 # 商\n",
        "    x <- x + r\n",
        "  }\n",
        "  \n",
        "  return(x)\n",
        "}\n",
        "\n",
        "prob08_1(0)\n",
        "prob08_1(1)\n",
        "prob08_1(1234)\n",
        "prob08_1(20221231)"
      ],
      "metadata": {
        "colab": {
          "base_uri": "https://localhost:8080/",
          "height": 86
        },
        "id": "DSNl9LUe9uIt",
        "outputId": "0eb4d528-b307-467f-fc69-00f467994fc6"
      },
      "execution_count": null,
      "outputs": [
        {
          "output_type": "display_data",
          "data": {
            "text/html": [
              "0"
            ],
            "text/markdown": "0",
            "text/latex": "0",
            "text/plain": [
              "[1] 0"
            ]
          },
          "metadata": {}
        },
        {
          "output_type": "display_data",
          "data": {
            "text/html": [
              "1"
            ],
            "text/markdown": "1",
            "text/latex": "1",
            "text/plain": [
              "[1] 1"
            ]
          },
          "metadata": {}
        },
        {
          "output_type": "display_data",
          "data": {
            "text/html": [
              "10"
            ],
            "text/markdown": "10",
            "text/latex": "10",
            "text/plain": [
              "[1] 10"
            ]
          },
          "metadata": {}
        },
        {
          "output_type": "display_data",
          "data": {
            "text/html": [
              "13"
            ],
            "text/markdown": "13",
            "text/latex": "13",
            "text/plain": [
              "[1] 13"
            ]
          },
          "metadata": {}
        }
      ]
    },
    {
      "cell_type": "markdown",
      "source": [
        "<font color =\"red\">【POINT2】10進数の各桁の総和</font><br>\n",
        "下記のパターンはよく出るので絶対に覚える。\n",
        "```R\n",
        "prob08_1 <- function(n){\n",
        "  x <- 0\n",
        "  while(n > 0){ # 商が0より大きければ繰り返す\n",
        "    r <- n %% 10 # 余り\n",
        "    n <- n %/% 10 # 商\n",
        "    x <- x + r\n",
        "  }  \n",
        "  return(x)\n",
        "}\n",
        "```"
      ],
      "metadata": {
        "id": "9VGnWxLOwcfS"
      }
    },
    {
      "cell_type": "markdown",
      "source": [
        "#問題8-2\n",
        "生年月日を西暦、誕生月、誕生日の8 桁の整数で表し、その各桁の数の総和を計算する。もしも、その値が１桁（10未満）の整数にならない場合は、さらに、その各桁の数の総和を計算する。これを繰り返して1 桁の整数を求めたとき、これが7 ならば元の生年月日を「ハッピーナンバー」と呼ぶことにする（本当にハッピーであるかの保証はない）。<br>\n",
        "そこで、上記の形式で生年月日を表す自然数n を入力したとき、これがハッピーナンバーであれば”Happy Number!”、そうでなければ”Not Happy Number.”を出力する関数prob08_2 を作成せよ。"
      ],
      "metadata": {
        "id": "63h2kH0W98Z7"
      }
    },
    {
      "cell_type": "code",
      "source": [
        "#問題8-2の解答\n",
        "#Happy number\n",
        "prob08_2 <- function(n){\n",
        "  while(n > 9){ # nが1桁（10未満）の整数にならなければ繰り返す\n",
        "# 10進数の各桁の総和s\n",
        "    s <- 0\n",
        "    while(n > 0){ # 商が0より大きければ繰り返す\n",
        "      s <- s + n %% 10 # 余り\n",
        "      n <- n %/% 10 # 商\n",
        "    }\n",
        "    n <- s\n",
        "  }\n",
        "\n",
        "  if(n == 7){\n",
        "    return(\"Happy Number!\")\n",
        "  }\n",
        "  else{\n",
        "    return(\"Not Happy Number.\")\n",
        "  }\n",
        "}\n",
        "\n",
        "prob08_2(18380311) #Shigenobu Okuma's birthday\n",
        "prob08_2(18520310) #Azusa Ono's birthday"
      ],
      "metadata": {
        "colab": {
          "base_uri": "https://localhost:8080/",
          "height": 52
        },
        "id": "Rf8WnlDU-GE-",
        "outputId": "09964366-6bb5-44d2-f9c7-d8f5c929e971"
      },
      "execution_count": null,
      "outputs": [
        {
          "output_type": "display_data",
          "data": {
            "text/html": [
              "'Happy Number!'"
            ],
            "text/markdown": "'Happy Number!'",
            "text/latex": "'Happy Number!'",
            "text/plain": [
              "[1] \"Happy Number!\""
            ]
          },
          "metadata": {}
        },
        {
          "output_type": "display_data",
          "data": {
            "text/html": [
              "'Not Happy Number.'"
            ],
            "text/markdown": "'Not Happy Number.'",
            "text/latex": "'Not Happy Number.'",
            "text/plain": [
              "[1] \"Not Happy Number.\""
            ]
          },
          "metadata": {}
        }
      ]
    },
    {
      "cell_type": "code",
      "source": [
        "#問題8-2の別解\n",
        "#Happy number\n",
        "prob08_2 <- function(n){\n",
        "  while(n > 9){\n",
        "    n <- prob08_1(n)\n",
        "  }\n",
        "\n",
        "  if(n == 7){\n",
        "    return(\"Happy Number!\")\n",
        "  }\n",
        "  else{\n",
        "    return(\"Not Happy Number.\")\n",
        "  }\n",
        "}\n",
        "\n",
        "prob08_2(18380311) #Shigenobu Okuma's birthday\n",
        "prob08_2(18520310) #Azusa Ono's birthday"
      ],
      "metadata": {
        "colab": {
          "base_uri": "https://localhost:8080/",
          "height": 52
        },
        "id": "kVX8fnCW3oRy",
        "outputId": "2803a81c-f07f-4bec-f447-387c37537fd1"
      },
      "execution_count": null,
      "outputs": [
        {
          "output_type": "display_data",
          "data": {
            "text/html": [
              "'Happy Number!'"
            ],
            "text/markdown": "'Happy Number!'",
            "text/latex": "'Happy Number!'",
            "text/plain": [
              "[1] \"Happy Number!\""
            ]
          },
          "metadata": {}
        },
        {
          "output_type": "display_data",
          "data": {
            "text/html": [
              "'Not Happy Number.'"
            ],
            "text/markdown": "'Not Happy Number.'",
            "text/latex": "'Not Happy Number.'",
            "text/plain": [
              "[1] \"Not Happy Number.\""
            ]
          },
          "metadata": {}
        }
      ]
    },
    {
      "cell_type": "markdown",
      "source": [
        "#問題9-1 選択ソートの準備\n",
        "2 つの整数からなるベクトルvec を入力したとき、この値を昇順にしたベクトルを出力する関数prob09_1を作成せよ。"
      ],
      "metadata": {
        "id": "5Lk0XWs1-O-r"
      }
    },
    {
      "cell_type": "code",
      "source": [
        "#問題9-1の解答\n",
        "#Sort two elements of a vector in ascending order\n",
        "prob09_1 <- function(vec){\n",
        "\n",
        "  if(vec[1] > vec[2]){\n",
        "    tmp <- vec[1]\n",
        "    vec[1] <- vec[2]\n",
        "    vec[2] <- tmp\n",
        "  }\n",
        "\n",
        "  return(vec)\n",
        "  \n",
        "}\n",
        "\n",
        "prob09_1(c(1, 2))\n",
        "prob09_1(c(2, 2))\n",
        "prob09_1(c(3, 2))"
      ],
      "metadata": {
        "colab": {
          "base_uri": "https://localhost:8080/",
          "height": 69
        },
        "id": "r2EcdAps-VD7",
        "outputId": "32a3975d-66b2-4b11-f0fc-0f06fb1a47bf"
      },
      "execution_count": null,
      "outputs": [
        {
          "output_type": "display_data",
          "data": {
            "text/html": [
              "<style>\n",
              ".list-inline {list-style: none; margin:0; padding: 0}\n",
              ".list-inline>li {display: inline-block}\n",
              ".list-inline>li:not(:last-child)::after {content: \"\\00b7\"; padding: 0 .5ex}\n",
              "</style>\n",
              "<ol class=list-inline><li>1</li><li>2</li></ol>\n"
            ],
            "text/markdown": "1. 1\n2. 2\n\n\n",
            "text/latex": "\\begin{enumerate*}\n\\item 1\n\\item 2\n\\end{enumerate*}\n",
            "text/plain": [
              "[1] 1 2"
            ]
          },
          "metadata": {}
        },
        {
          "output_type": "display_data",
          "data": {
            "text/html": [
              "<style>\n",
              ".list-inline {list-style: none; margin:0; padding: 0}\n",
              ".list-inline>li {display: inline-block}\n",
              ".list-inline>li:not(:last-child)::after {content: \"\\00b7\"; padding: 0 .5ex}\n",
              "</style>\n",
              "<ol class=list-inline><li>2</li><li>2</li></ol>\n"
            ],
            "text/markdown": "1. 2\n2. 2\n\n\n",
            "text/latex": "\\begin{enumerate*}\n\\item 2\n\\item 2\n\\end{enumerate*}\n",
            "text/plain": [
              "[1] 2 2"
            ]
          },
          "metadata": {}
        },
        {
          "output_type": "display_data",
          "data": {
            "text/html": [
              "<style>\n",
              ".list-inline {list-style: none; margin:0; padding: 0}\n",
              ".list-inline>li {display: inline-block}\n",
              ".list-inline>li:not(:last-child)::after {content: \"\\00b7\"; padding: 0 .5ex}\n",
              "</style>\n",
              "<ol class=list-inline><li>2</li><li>3</li></ol>\n"
            ],
            "text/markdown": "1. 2\n2. 3\n\n\n",
            "text/latex": "\\begin{enumerate*}\n\\item 2\n\\item 3\n\\end{enumerate*}\n",
            "text/plain": [
              "[1] 2 3"
            ]
          },
          "metadata": {}
        }
      ]
    },
    {
      "cell_type": "markdown",
      "source": [
        "#問題9-2 選択ソート\n",
        "n 個の整数からなるベクトルvec に対して、次の操作でvec の要素全体が昇順にすることができる。\n",
        "* まず、先頭から順番にvec の隣り合う要素（j 番目と(j+1)番目）を昇順に交換することを、(n-1)番目とn 番目まで繰り返す（第1 ラウンド）。\n",
        "* 次に、先頭から順番にvec の隣り合う要素を昇順に交換することを(n-2)番目と(n-1)番目まで\n",
        "繰り返す（第2 ラウンド）。\n",
        "* 同様に、先頭から順番にvec の隣り合う要素を昇順に交換することを(n-i)番目と(n-i+1)番目まで繰り返す（第i ラウンド）。<br>\n",
        "\n",
        "このときvec を入力したとき、vec の要素全体が昇順になったベクトルを出力する関数prob09_2 を作成せよ。ただし、上記の操作を何ラウンド繰り返すかは自分で考えること。"
      ],
      "metadata": {
        "id": "0JNMn32b-eTm"
      }
    },
    {
      "cell_type": "code",
      "source": [
        "#問題9-2の解答\n",
        "#Sort two elements of a vector in ascending order\n",
        "prob09_2 <- function(vec){\n",
        "  n <- length(vec)\n",
        "  \n",
        "  for(i in 1:(n-1)){\n",
        "    for(j in 1:(n-i)){\n",
        "      if(vec[j] > vec[j+1]){\n",
        "        tmp <- vec[j]\n",
        "        vec[j] <- vec[j+1]\n",
        "        vec[j+1] <- tmp\n",
        "      }\n",
        "    }\n",
        "  }\n",
        "\n",
        "  return(vec)\n",
        "  \n",
        "}\n",
        "\n",
        "prob09_2(5:1)\n",
        "prob09_2(1:5)\n",
        "a <- c(4, 5, 2, 7, 1, 9, 8, 4, 1, 8, 0, 2, 3, 4, 9, 5, 7, 3, 8, 5)\n",
        "prob09_2(a)\n"
      ],
      "metadata": {
        "colab": {
          "base_uri": "https://localhost:8080/",
          "height": 69
        },
        "id": "B0cDofyj-_DM",
        "outputId": "e7011fdb-1691-4cb7-aff3-a5de70f897c8"
      },
      "execution_count": null,
      "outputs": [
        {
          "output_type": "display_data",
          "data": {
            "text/html": [
              "<style>\n",
              ".list-inline {list-style: none; margin:0; padding: 0}\n",
              ".list-inline>li {display: inline-block}\n",
              ".list-inline>li:not(:last-child)::after {content: \"\\00b7\"; padding: 0 .5ex}\n",
              "</style>\n",
              "<ol class=list-inline><li>1</li><li>2</li><li>3</li><li>4</li><li>5</li></ol>\n"
            ],
            "text/markdown": "1. 1\n2. 2\n3. 3\n4. 4\n5. 5\n\n\n",
            "text/latex": "\\begin{enumerate*}\n\\item 1\n\\item 2\n\\item 3\n\\item 4\n\\item 5\n\\end{enumerate*}\n",
            "text/plain": [
              "[1] 1 2 3 4 5"
            ]
          },
          "metadata": {}
        },
        {
          "output_type": "display_data",
          "data": {
            "text/html": [
              "<style>\n",
              ".list-inline {list-style: none; margin:0; padding: 0}\n",
              ".list-inline>li {display: inline-block}\n",
              ".list-inline>li:not(:last-child)::after {content: \"\\00b7\"; padding: 0 .5ex}\n",
              "</style>\n",
              "<ol class=list-inline><li>1</li><li>2</li><li>3</li><li>4</li><li>5</li></ol>\n"
            ],
            "text/markdown": "1. 1\n2. 2\n3. 3\n4. 4\n5. 5\n\n\n",
            "text/latex": "\\begin{enumerate*}\n\\item 1\n\\item 2\n\\item 3\n\\item 4\n\\item 5\n\\end{enumerate*}\n",
            "text/plain": [
              "[1] 1 2 3 4 5"
            ]
          },
          "metadata": {}
        },
        {
          "output_type": "display_data",
          "data": {
            "text/html": [
              "<style>\n",
              ".list-inline {list-style: none; margin:0; padding: 0}\n",
              ".list-inline>li {display: inline-block}\n",
              ".list-inline>li:not(:last-child)::after {content: \"\\00b7\"; padding: 0 .5ex}\n",
              "</style>\n",
              "<ol class=list-inline><li>0</li><li>1</li><li>1</li><li>2</li><li>2</li><li>3</li><li>3</li><li>4</li><li>4</li><li>4</li><li>5</li><li>5</li><li>5</li><li>7</li><li>7</li><li>8</li><li>8</li><li>8</li><li>9</li><li>9</li></ol>\n"
            ],
            "text/markdown": "1. 0\n2. 1\n3. 1\n4. 2\n5. 2\n6. 3\n7. 3\n8. 4\n9. 4\n10. 4\n11. 5\n12. 5\n13. 5\n14. 7\n15. 7\n16. 8\n17. 8\n18. 8\n19. 9\n20. 9\n\n\n",
            "text/latex": "\\begin{enumerate*}\n\\item 0\n\\item 1\n\\item 1\n\\item 2\n\\item 2\n\\item 3\n\\item 3\n\\item 4\n\\item 4\n\\item 4\n\\item 5\n\\item 5\n\\item 5\n\\item 7\n\\item 7\n\\item 8\n\\item 8\n\\item 8\n\\item 9\n\\item 9\n\\end{enumerate*}\n",
            "text/plain": [
              " [1] 0 1 1 2 2 3 3 4 4 4 5 5 5 7 7 8 8 8 9 9"
            ]
          },
          "metadata": {}
        }
      ]
    },
    {
      "cell_type": "markdown",
      "source": [
        "#問題10-1 バブルソートの準備\n",
        "２個以上の自然数を要素とするベクトルを入力したとき、そこに含まれる数値の最大値が何番目の要素かを出力する関数prob10_1 を作成せよ。<br>ただし、最大値が複数ある場合は、その場所を示す数値の最小値（先頭に近い値）を出力すること。"
      ],
      "metadata": {
        "id": "U9WMEJYX_I7H"
      }
    },
    {
      "cell_type": "code",
      "source": [
        "#問題10-1の解答\n",
        "prob10_1 <- function(vec){\n",
        "  n <- length(vec)\n",
        "  x <- vec[1]\n",
        "  p <- 1\n",
        "  \n",
        "  for(i in 2:n){\n",
        "    if(x < vec[i]){\n",
        "      x <- vec[i]\n",
        "      p <- i\n",
        "    }\n",
        "  }\n",
        "\n",
        "  return(p)\n",
        "}\n",
        "\n",
        "prob10_1(1:10)\n",
        "prob10_1(20:10)\n",
        "a <- c(42, 80, 18, 54,  7, 44,  3, 64,  8, 86, 23, 54, 58, 70, 86, 69, 75, 78, 43, 69)\n",
        "prob10_1(a)"
      ],
      "metadata": {
        "colab": {
          "base_uri": "https://localhost:8080/",
          "height": 69
        },
        "id": "ejo2UUIM_R1N",
        "outputId": "434fd91c-d9f6-4965-da1b-5b4708db1d49"
      },
      "execution_count": null,
      "outputs": [
        {
          "output_type": "display_data",
          "data": {
            "text/html": [
              "10"
            ],
            "text/markdown": "10",
            "text/latex": "10",
            "text/plain": [
              "[1] 10"
            ]
          },
          "metadata": {}
        },
        {
          "output_type": "display_data",
          "data": {
            "text/html": [
              "1"
            ],
            "text/markdown": "1",
            "text/latex": "1",
            "text/plain": [
              "[1] 1"
            ]
          },
          "metadata": {}
        },
        {
          "output_type": "display_data",
          "data": {
            "text/html": [
              "10"
            ],
            "text/markdown": "10",
            "text/latex": "10",
            "text/plain": [
              "[1] 10"
            ]
          },
          "metadata": {}
        }
      ]
    },
    {
      "cell_type": "markdown",
      "source": [
        "#問題10-2 バブルソート（降順）\n",
        "n 個の整数からなるベクトルvec に対して、次の操作でvec の要素全体が昇順にすることができる。\n",
        "* まず、先頭（１番目）の要素から末尾（n 番目）の要素の中で最大値（の場所）を探して、その\n",
        "最大値と末尾の要素を交換する（第1 ラウンド）。\n",
        "* 次に、先頭の要素から(n-1)番目の要素の中で最大値（の場所）を探して、その最大値と(n-1)\n",
        "番目の要素を交換する（第2 ラウンド）。\n",
        "* 同様に、先頭の要素から(n-i+1)番目の要素の中で最大値（の場所）を探して、その最大値と(n-i+1)番目の要素を交換する（第i ラウンド）。\n",
        "\n",
        "このときvec を入力したとき、vec の要素全体が昇順になったベクトルを出力する関数prob10_2 を作成せよ。ただし、上記の操作を何ラウンド繰り返すかは自分で考えること。"
      ],
      "metadata": {
        "id": "qOAj2CZ5_aAc"
      }
    },
    {
      "cell_type": "code",
      "source": [
        "#問題10-2の解答\n",
        "prob10_2 <- function(vec){\n",
        "  n <- length(vec)\n",
        "\n",
        "  for(i in 1:(n-1)){\n",
        "    x <- vec[1]\n",
        "    p <- 1\n",
        "\n",
        "    for(j in 1:(n-i+1)){\n",
        "      if(x < vec[j]){\n",
        "        x <- vec[j]\n",
        "        p <- j\n",
        "      }\n",
        "    }\n",
        "\n",
        "    tmp <- vec[p]\n",
        "    vec[p] <- vec[n-i+1]\n",
        "    vec[n-i+1] <- tmp   \n",
        "\n",
        "  }\n",
        "\n",
        "  return(vec)\n",
        "}\n",
        "\n",
        "prob10_2(1:10)\n",
        "prob10_2(20:11)\n",
        "a <- c(42, 80, 18, 54,  7, 44,  3, 64,  8, 86, 23, 54, 58, 70, 86, 69, 75, 78, 43, 69)\n",
        "prob10_2(a)"
      ],
      "metadata": {
        "colab": {
          "base_uri": "https://localhost:8080/",
          "height": 69
        },
        "id": "_jpIj5vs_uI3",
        "outputId": "54583b74-dd70-40cc-e611-587229c35d6e"
      },
      "execution_count": null,
      "outputs": [
        {
          "output_type": "display_data",
          "data": {
            "text/html": [
              "<style>\n",
              ".list-inline {list-style: none; margin:0; padding: 0}\n",
              ".list-inline>li {display: inline-block}\n",
              ".list-inline>li:not(:last-child)::after {content: \"\\00b7\"; padding: 0 .5ex}\n",
              "</style>\n",
              "<ol class=list-inline><li>1</li><li>2</li><li>3</li><li>4</li><li>5</li><li>6</li><li>7</li><li>8</li><li>9</li><li>10</li></ol>\n"
            ],
            "text/markdown": "1. 1\n2. 2\n3. 3\n4. 4\n5. 5\n6. 6\n7. 7\n8. 8\n9. 9\n10. 10\n\n\n",
            "text/latex": "\\begin{enumerate*}\n\\item 1\n\\item 2\n\\item 3\n\\item 4\n\\item 5\n\\item 6\n\\item 7\n\\item 8\n\\item 9\n\\item 10\n\\end{enumerate*}\n",
            "text/plain": [
              " [1]  1  2  3  4  5  6  7  8  9 10"
            ]
          },
          "metadata": {}
        },
        {
          "output_type": "display_data",
          "data": {
            "text/html": [
              "<style>\n",
              ".list-inline {list-style: none; margin:0; padding: 0}\n",
              ".list-inline>li {display: inline-block}\n",
              ".list-inline>li:not(:last-child)::after {content: \"\\00b7\"; padding: 0 .5ex}\n",
              "</style>\n",
              "<ol class=list-inline><li>11</li><li>12</li><li>13</li><li>14</li><li>15</li><li>16</li><li>17</li><li>18</li><li>19</li><li>20</li></ol>\n"
            ],
            "text/markdown": "1. 11\n2. 12\n3. 13\n4. 14\n5. 15\n6. 16\n7. 17\n8. 18\n9. 19\n10. 20\n\n\n",
            "text/latex": "\\begin{enumerate*}\n\\item 11\n\\item 12\n\\item 13\n\\item 14\n\\item 15\n\\item 16\n\\item 17\n\\item 18\n\\item 19\n\\item 20\n\\end{enumerate*}\n",
            "text/plain": [
              " [1] 11 12 13 14 15 16 17 18 19 20"
            ]
          },
          "metadata": {}
        },
        {
          "output_type": "display_data",
          "data": {
            "text/html": [
              "<style>\n",
              ".list-inline {list-style: none; margin:0; padding: 0}\n",
              ".list-inline>li {display: inline-block}\n",
              ".list-inline>li:not(:last-child)::after {content: \"\\00b7\"; padding: 0 .5ex}\n",
              "</style>\n",
              "<ol class=list-inline><li>3</li><li>7</li><li>8</li><li>18</li><li>23</li><li>42</li><li>43</li><li>44</li><li>54</li><li>54</li><li>58</li><li>64</li><li>69</li><li>69</li><li>70</li><li>75</li><li>78</li><li>80</li><li>86</li><li>86</li></ol>\n"
            ],
            "text/markdown": "1. 3\n2. 7\n3. 8\n4. 18\n5. 23\n6. 42\n7. 43\n8. 44\n9. 54\n10. 54\n11. 58\n12. 64\n13. 69\n14. 69\n15. 70\n16. 75\n17. 78\n18. 80\n19. 86\n20. 86\n\n\n",
            "text/latex": "\\begin{enumerate*}\n\\item 3\n\\item 7\n\\item 8\n\\item 18\n\\item 23\n\\item 42\n\\item 43\n\\item 44\n\\item 54\n\\item 54\n\\item 58\n\\item 64\n\\item 69\n\\item 69\n\\item 70\n\\item 75\n\\item 78\n\\item 80\n\\item 86\n\\item 86\n\\end{enumerate*}\n",
            "text/plain": [
              " [1]  3  7  8 18 23 42 43 44 54 54 58 64 69 69 70 75 78 80 86 86"
            ]
          },
          "metadata": {}
        }
      ]
    }
  ]
}